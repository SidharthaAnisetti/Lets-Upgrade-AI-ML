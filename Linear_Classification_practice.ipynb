{
  "nbformat": 4,
  "nbformat_minor": 0,
  "metadata": {
    "colab": {
      "name": "Linear Classification practice.ipynb",
      "provenance": [],
      "collapsed_sections": [],
      "authorship_tag": "ABX9TyO2DNzawMUYs1uCdMK1N4dz",
      "include_colab_link": true
    },
    "kernelspec": {
      "name": "python3",
      "display_name": "Python 3"
    }
  },
  "cells": [
    {
      "cell_type": "markdown",
      "metadata": {
        "id": "view-in-github",
        "colab_type": "text"
      },
      "source": [
        "<a href=\"https://colab.research.google.com/github/SidharthaAnisetti/Lets-Upgrade-AI-ML/blob/master/Linear_Classification_practice.ipynb\" target=\"_parent\"><img src=\"https://colab.research.google.com/assets/colab-badge.svg\" alt=\"Open In Colab\"/></a>"
      ]
    },
    {
      "cell_type": "code",
      "metadata": {
        "colab": {
          "base_uri": "https://localhost:8080/"
        },
        "id": "ueSZ_HNfi7Dd",
        "outputId": "dd9c39ff-bd53-4dd4-e72c-2f73a3bdbbf9"
      },
      "source": [
        "import tensorflow as tf\n",
        "print(tf.__version__)"
      ],
      "execution_count": 2,
      "outputs": [
        {
          "output_type": "stream",
          "text": [
            "2.3.0\n"
          ],
          "name": "stdout"
        }
      ]
    },
    {
      "cell_type": "code",
      "metadata": {
        "id": "qMh7x9FqjMeG"
      },
      "source": [
        "from sklearn.datasets import load_breast_cancer\n",
        "\n",
        "data=load_breast_cancer()"
      ],
      "execution_count": 3,
      "outputs": []
    },
    {
      "cell_type": "code",
      "metadata": {
        "colab": {
          "base_uri": "https://localhost:8080/"
        },
        "id": "cnYYFUPWkHdR",
        "outputId": "60e01330-cc4d-4147-cb38-03fc90f00c57"
      },
      "source": [
        "type(data)"
      ],
      "execution_count": 4,
      "outputs": [
        {
          "output_type": "execute_result",
          "data": {
            "text/plain": [
              "sklearn.utils.Bunch"
            ]
          },
          "metadata": {
            "tags": []
          },
          "execution_count": 4
        }
      ]
    },
    {
      "cell_type": "code",
      "metadata": {
        "colab": {
          "base_uri": "https://localhost:8080/"
        },
        "id": "0dU8FCmRkJ69",
        "outputId": "f19d1b92-3259-4325-ae7b-61b9ff737166"
      },
      "source": [
        "data.keys()\n"
      ],
      "execution_count": 6,
      "outputs": [
        {
          "output_type": "execute_result",
          "data": {
            "text/plain": [
              "dict_keys(['data', 'target', 'target_names', 'DESCR', 'feature_names', 'filename'])"
            ]
          },
          "metadata": {
            "tags": []
          },
          "execution_count": 6
        }
      ]
    },
    {
      "cell_type": "code",
      "metadata": {
        "colab": {
          "base_uri": "https://localhost:8080/"
        },
        "id": "Zn4q6WGQkMGk",
        "outputId": "60068575-0ef1-4e71-dd18-47e1b23f20b2"
      },
      "source": [
        "data.data.shape"
      ],
      "execution_count": 7,
      "outputs": [
        {
          "output_type": "execute_result",
          "data": {
            "text/plain": [
              "(569, 30)"
            ]
          },
          "metadata": {
            "tags": []
          },
          "execution_count": 7
        }
      ]
    },
    {
      "cell_type": "code",
      "metadata": {
        "colab": {
          "base_uri": "https://localhost:8080/"
        },
        "id": "kbBi5sSIkThE",
        "outputId": "d2d986f5-3aef-478c-b3e2-8a50d1dde2b3"
      },
      "source": [
        "data.target_names"
      ],
      "execution_count": 8,
      "outputs": [
        {
          "output_type": "execute_result",
          "data": {
            "text/plain": [
              "array(['malignant', 'benign'], dtype='<U9')"
            ]
          },
          "metadata": {
            "tags": []
          },
          "execution_count": 8
        }
      ]
    },
    {
      "cell_type": "code",
      "metadata": {
        "colab": {
          "base_uri": "https://localhost:8080/"
        },
        "id": "i7rgrzBjkYit",
        "outputId": "7d4c1c15-10f1-491a-ce17-0c2b18a3470c"
      },
      "source": [
        "data.feature_names"
      ],
      "execution_count": 9,
      "outputs": [
        {
          "output_type": "execute_result",
          "data": {
            "text/plain": [
              "array(['mean radius', 'mean texture', 'mean perimeter', 'mean area',\n",
              "       'mean smoothness', 'mean compactness', 'mean concavity',\n",
              "       'mean concave points', 'mean symmetry', 'mean fractal dimension',\n",
              "       'radius error', 'texture error', 'perimeter error', 'area error',\n",
              "       'smoothness error', 'compactness error', 'concavity error',\n",
              "       'concave points error', 'symmetry error',\n",
              "       'fractal dimension error', 'worst radius', 'worst texture',\n",
              "       'worst perimeter', 'worst area', 'worst smoothness',\n",
              "       'worst compactness', 'worst concavity', 'worst concave points',\n",
              "       'worst symmetry', 'worst fractal dimension'], dtype='<U23')"
            ]
          },
          "metadata": {
            "tags": []
          },
          "execution_count": 9
        }
      ]
    },
    {
      "cell_type": "code",
      "metadata": {
        "colab": {
          "base_uri": "https://localhost:8080/"
        },
        "id": "qX-1tdgVkWjE",
        "outputId": "546ca007-1d4f-4b52-ab8c-20f2ac75f123"
      },
      "source": [
        "len(data.feature_names)"
      ],
      "execution_count": 10,
      "outputs": [
        {
          "output_type": "execute_result",
          "data": {
            "text/plain": [
              "30"
            ]
          },
          "metadata": {
            "tags": []
          },
          "execution_count": 10
        }
      ]
    },
    {
      "cell_type": "code",
      "metadata": {
        "colab": {
          "base_uri": "https://localhost:8080/",
          "height": 35
        },
        "id": "2dazWGO9klwi",
        "outputId": "1814570f-ebaa-4d36-9605-9de44efc2bf1"
      },
      "source": [
        "data.filename"
      ],
      "execution_count": 11,
      "outputs": [
        {
          "output_type": "execute_result",
          "data": {
            "application/vnd.google.colaboratory.intrinsic+json": {
              "type": "string"
            },
            "text/plain": [
              "'/usr/local/lib/python3.6/dist-packages/sklearn/datasets/data/breast_cancer.csv'"
            ]
          },
          "metadata": {
            "tags": []
          },
          "execution_count": 11
        }
      ]
    },
    {
      "cell_type": "code",
      "metadata": {
        "id": "143qahDikyIz"
      },
      "source": [
        "#pora jaffa"
      ],
      "execution_count": 13,
      "outputs": []
    },
    {
      "cell_type": "markdown",
      "metadata": {
        "id": "Xx1lX1PqlD6m"
      },
      "source": [
        "sidharth notebook"
      ]
    },
    {
      "cell_type": "code",
      "metadata": {
        "colab": {
          "base_uri": "https://localhost:8080/",
          "height": 120
        },
        "id": "eSIJX8bylH4w",
        "outputId": "9e83e760-4179-48ba-9343-109b953d8acd"
      },
      "source": [
        "data.DESCR"
      ],
      "execution_count": 14,
      "outputs": [
        {
          "output_type": "execute_result",
          "data": {
            "application/vnd.google.colaboratory.intrinsic+json": {
              "type": "string"
            },
            "text/plain": [
              "'.. _breast_cancer_dataset:\\n\\nBreast cancer wisconsin (diagnostic) dataset\\n--------------------------------------------\\n\\n**Data Set Characteristics:**\\n\\n    :Number of Instances: 569\\n\\n    :Number of Attributes: 30 numeric, predictive attributes and the class\\n\\n    :Attribute Information:\\n        - radius (mean of distances from center to points on the perimeter)\\n        - texture (standard deviation of gray-scale values)\\n        - perimeter\\n        - area\\n        - smoothness (local variation in radius lengths)\\n        - compactness (perimeter^2 / area - 1.0)\\n        - concavity (severity of concave portions of the contour)\\n        - concave points (number of concave portions of the contour)\\n        - symmetry \\n        - fractal dimension (\"coastline approximation\" - 1)\\n\\n        The mean, standard error, and \"worst\" or largest (mean of the three\\n        largest values) of these features were computed for each image,\\n        resulting in 30 features.  For instance, field 3 is Mean Radius, field\\n        13 is Radius SE, field 23 is Worst Radius.\\n\\n        - class:\\n                - WDBC-Malignant\\n                - WDBC-Benign\\n\\n    :Summary Statistics:\\n\\n    ===================================== ====== ======\\n                                           Min    Max\\n    ===================================== ====== ======\\n    radius (mean):                        6.981  28.11\\n    texture (mean):                       9.71   39.28\\n    perimeter (mean):                     43.79  188.5\\n    area (mean):                          143.5  2501.0\\n    smoothness (mean):                    0.053  0.163\\n    compactness (mean):                   0.019  0.345\\n    concavity (mean):                     0.0    0.427\\n    concave points (mean):                0.0    0.201\\n    symmetry (mean):                      0.106  0.304\\n    fractal dimension (mean):             0.05   0.097\\n    radius (standard error):              0.112  2.873\\n    texture (standard error):             0.36   4.885\\n    perimeter (standard error):           0.757  21.98\\n    area (standard error):                6.802  542.2\\n    smoothness (standard error):          0.002  0.031\\n    compactness (standard error):         0.002  0.135\\n    concavity (standard error):           0.0    0.396\\n    concave points (standard error):      0.0    0.053\\n    symmetry (standard error):            0.008  0.079\\n    fractal dimension (standard error):   0.001  0.03\\n    radius (worst):                       7.93   36.04\\n    texture (worst):                      12.02  49.54\\n    perimeter (worst):                    50.41  251.2\\n    area (worst):                         185.2  4254.0\\n    smoothness (worst):                   0.071  0.223\\n    compactness (worst):                  0.027  1.058\\n    concavity (worst):                    0.0    1.252\\n    concave points (worst):               0.0    0.291\\n    symmetry (worst):                     0.156  0.664\\n    fractal dimension (worst):            0.055  0.208\\n    ===================================== ====== ======\\n\\n    :Missing Attribute Values: None\\n\\n    :Class Distribution: 212 - Malignant, 357 - Benign\\n\\n    :Creator:  Dr. William H. Wolberg, W. Nick Street, Olvi L. Mangasarian\\n\\n    :Donor: Nick Street\\n\\n    :Date: November, 1995\\n\\nThis is a copy of UCI ML Breast Cancer Wisconsin (Diagnostic) datasets.\\nhttps://goo.gl/U2Uwz2\\n\\nFeatures are computed from a digitized image of a fine needle\\naspirate (FNA) of a breast mass.  They describe\\ncharacteristics of the cell nuclei present in the image.\\n\\nSeparating plane described above was obtained using\\nMultisurface Method-Tree (MSM-T) [K. P. Bennett, \"Decision Tree\\nConstruction Via Linear Programming.\" Proceedings of the 4th\\nMidwest Artificial Intelligence and Cognitive Science Society,\\npp. 97-101, 1992], a classification method which uses linear\\nprogramming to construct a decision tree.  Relevant features\\nwere selected using an exhaustive search in the space of 1-4\\nfeatures and 1-3 separating planes.\\n\\nThe actual linear program used to obtain the separating plane\\nin the 3-dimensional space is that described in:\\n[K. P. Bennett and O. L. Mangasarian: \"Robust Linear\\nProgramming Discrimination of Two Linearly Inseparable Sets\",\\nOptimization Methods and Software 1, 1992, 23-34].\\n\\nThis database is also available through the UW CS ftp server:\\n\\nftp ftp.cs.wisc.edu\\ncd math-prog/cpo-dataset/machine-learn/WDBC/\\n\\n.. topic:: References\\n\\n   - W.N. Street, W.H. Wolberg and O.L. Mangasarian. Nuclear feature extraction \\n     for breast tumor diagnosis. IS&T/SPIE 1993 International Symposium on \\n     Electronic Imaging: Science and Technology, volume 1905, pages 861-870,\\n     San Jose, CA, 1993.\\n   - O.L. Mangasarian, W.N. Street and W.H. Wolberg. Breast cancer diagnosis and \\n     prognosis via linear programming. Operations Research, 43(4), pages 570-577, \\n     July-August 1995.\\n   - W.H. Wolberg, W.N. Street, and O.L. Mangasarian. Machine learning techniques\\n     to diagnose breast cancer from fine-needle aspirates. Cancer Letters 77 (1994) \\n     163-171.'"
            ]
          },
          "metadata": {
            "tags": []
          },
          "execution_count": 14
        }
      ]
    },
    {
      "cell_type": "code",
      "metadata": {
        "id": "lbHmgXQ8lOic"
      },
      "source": [
        "from sklearn.model_selection import train_test_split\n",
        "X_train, X_test, y_train, y_test = train_test_split(data.data, data.target, test_size=0.33)\n"
      ],
      "execution_count": 15,
      "outputs": []
    },
    {
      "cell_type": "code",
      "metadata": {
        "colab": {
          "base_uri": "https://localhost:8080/"
        },
        "id": "nFaQ1A4ClzTe",
        "outputId": "2c758d27-7639-4164-b05f-70cf8cc0e285"
      },
      "source": [
        "X_train.shape"
      ],
      "execution_count": 16,
      "outputs": [
        {
          "output_type": "execute_result",
          "data": {
            "text/plain": [
              "(381, 30)"
            ]
          },
          "metadata": {
            "tags": []
          },
          "execution_count": 16
        }
      ]
    },
    {
      "cell_type": "code",
      "metadata": {
        "colab": {
          "base_uri": "https://localhost:8080/"
        },
        "id": "G7MEeZMcl4fR",
        "outputId": "ee38900e-332d-4831-afaf-b452d6b254a0"
      },
      "source": [
        "X_test.shape"
      ],
      "execution_count": 17,
      "outputs": [
        {
          "output_type": "execute_result",
          "data": {
            "text/plain": [
              "(188, 30)"
            ]
          },
          "metadata": {
            "tags": []
          },
          "execution_count": 17
        }
      ]
    },
    {
      "cell_type": "code",
      "metadata": {
        "colab": {
          "base_uri": "https://localhost:8080/"
        },
        "id": "-89chRaHl7ng",
        "outputId": "11467621-006e-47c6-959f-6bdafae60a90"
      },
      "source": [
        "N, D = X_train.shape\n",
        "\n",
        "# N = No of rows\n",
        "# D = No of cols/features\n",
        "\n",
        "print(N,D)"
      ],
      "execution_count": 18,
      "outputs": [
        {
          "output_type": "stream",
          "text": [
            "381 30\n"
          ],
          "name": "stdout"
        }
      ]
    },
    {
      "cell_type": "code",
      "metadata": {
        "id": "wCAXoTtJmK25"
      },
      "source": [
        "from sklearn.preprocessing import StandardScaler\n",
        "scaler=StandardScaler()\n",
        "X_train=scaler.fit_transform(X_train)\n",
        "X_test=scaler.transform(X_test)"
      ],
      "execution_count": 19,
      "outputs": []
    },
    {
      "cell_type": "code",
      "metadata": {
        "colab": {
          "base_uri": "https://localhost:8080/"
        },
        "id": "vKQ-IxAams4T",
        "outputId": "c229d30f-2ff0-4cb9-9782-2005eae8ea97"
      },
      "source": [
        "X_train[0]"
      ],
      "execution_count": 20,
      "outputs": [
        {
          "output_type": "execute_result",
          "data": {
            "text/plain": [
              "array([-0.28512367,  0.39168427, -0.25295592, -0.3425752 , -0.70646691,\n",
              "        0.07090191,  0.23583392, -0.36465258, -0.9213164 , -0.36721686,\n",
              "       -0.34459394, -0.80292146, -0.28595293, -0.30580365,  0.02544747,\n",
              "        0.34410317,  0.42720723,  0.10884779, -0.60935089, -0.21103277,\n",
              "       -0.31065653,  0.00486161, -0.19733094, -0.34549958,  0.10174842,\n",
              "        0.66982393,  0.85925392,  0.05821438, -0.56184814, -0.1017539 ])"
            ]
          },
          "metadata": {
            "tags": []
          },
          "execution_count": 20
        }
      ]
    },
    {
      "cell_type": "code",
      "metadata": {
        "colab": {
          "base_uri": "https://localhost:8080/"
        },
        "id": "mqiSRZOom0o4",
        "outputId": "0ce6d92a-12c0-4825-dfae-29ed8742fc50"
      },
      "source": [
        "X_test[0]"
      ],
      "execution_count": 21,
      "outputs": [
        {
          "output_type": "execute_result",
          "data": {
            "text/plain": [
              "array([-0.78462989, -1.18204581, -0.82187234, -0.73100959, -0.21374783,\n",
              "       -1.23871634, -1.08715332, -1.17737009,  0.51357606, -0.64257502,\n",
              "       -0.62808184,  0.13466072, -0.6600135 , -0.5427495 ,  0.37540586,\n",
              "       -0.89976786, -0.93267967, -1.35696444,  0.29170122, -0.775641  ,\n",
              "       -0.84202252, -1.0445428 , -0.88736116, -0.74919626, -0.3093454 ,\n",
              "       -1.15114844, -1.24834593, -1.56648629, -0.23569403, -1.14921152])"
            ]
          },
          "metadata": {
            "tags": []
          },
          "execution_count": 21
        }
      ]
    },
    {
      "cell_type": "markdown",
      "metadata": {
        "id": "b_5TmXmwnZvH"
      },
      "source": [
        "TensorFlow\n",
        "\n",
        "First I will building a MODEL, of type SEQUENTIAL.\n",
        "\n",
        "SEQUENTIAL consists of 2 objects:\n",
        "\n",
        "Input: Placeholder. Used to specify the size of the input features i.e. D in our case\n",
        "\n",
        "Dense: Real work i.e. Model learning happens here.\n",
        "\n",
        "This is a classification problem. Therefore the Activation function used at the Output layer is: Sigmoid"
      ]
    },
    {
      "cell_type": "code",
      "metadata": {
        "id": "Juy0UGI-n6QQ"
      },
      "source": [
        "# Build a model\n",
        "\n",
        "# There are 2 ways:\n",
        "\n",
        "# WAY1:\n",
        "\n",
        "# model = tf.keras.models.Sequential([\n",
        "#                             tf.keras.layers.Input(shape=(D,)),\n",
        "#                             tf.keras.layers.Dense(1,activation='sigmoid')\n",
        "# ])\n",
        "\n",
        "# WAY2:\n",
        "\n",
        "model=tf.keras.models.Sequential()\n",
        "model.add(tf.keras.layers.Dense(1, input_shape=(D,), activation='sigmoid'))"
      ],
      "execution_count": 22,
      "outputs": []
    },
    {
      "cell_type": "code",
      "metadata": {
        "id": "_HkrX_0BoXJX"
      },
      "source": [
        "model.compile(optimizer='adam',loss='binary_crossentropy',metrics=['accuracy'])"
      ],
      "execution_count": 24,
      "outputs": []
    },
    {
      "cell_type": "code",
      "metadata": {
        "colab": {
          "base_uri": "https://localhost:8080/"
        },
        "id": "BoV_qrAvo7AZ",
        "outputId": "f7c4c929-fc87-497d-fe32-b4c912f20a9d"
      },
      "source": [
        "#r = model.fit(X_train, y_train, validation_data=(X_test, y_test), epochs=100)\n",
        "\n",
        "r = model.fit(X_train,y_train,validation_data=(X_test, y_test),epochs=100)"
      ],
      "execution_count": 25,
      "outputs": [
        {
          "output_type": "stream",
          "text": [
            "Epoch 1/100\n",
            "12/12 [==============================] - 0s 13ms/step - loss: 1.2579 - accuracy: 0.1680 - val_loss: 1.1995 - val_accuracy: 0.2021\n",
            "Epoch 2/100\n",
            "12/12 [==============================] - 0s 3ms/step - loss: 1.1478 - accuracy: 0.1995 - val_loss: 1.0966 - val_accuracy: 0.2394\n",
            "Epoch 3/100\n",
            "12/12 [==============================] - 0s 3ms/step - loss: 1.0474 - accuracy: 0.2546 - val_loss: 1.0013 - val_accuracy: 0.2926\n",
            "Epoch 4/100\n",
            "12/12 [==============================] - 0s 3ms/step - loss: 0.9528 - accuracy: 0.3071 - val_loss: 0.9165 - val_accuracy: 0.3564\n",
            "Epoch 5/100\n",
            "12/12 [==============================] - 0s 3ms/step - loss: 0.8701 - accuracy: 0.4121 - val_loss: 0.8400 - val_accuracy: 0.4415\n",
            "Epoch 6/100\n",
            "12/12 [==============================] - 0s 3ms/step - loss: 0.7966 - accuracy: 0.4777 - val_loss: 0.7717 - val_accuracy: 0.4894\n",
            "Epoch 7/100\n",
            "12/12 [==============================] - 0s 3ms/step - loss: 0.7313 - accuracy: 0.5669 - val_loss: 0.7122 - val_accuracy: 0.5745\n",
            "Epoch 8/100\n",
            "12/12 [==============================] - 0s 3ms/step - loss: 0.6747 - accuracy: 0.6378 - val_loss: 0.6601 - val_accuracy: 0.6277\n",
            "Epoch 9/100\n",
            "12/12 [==============================] - 0s 3ms/step - loss: 0.6247 - accuracy: 0.6824 - val_loss: 0.6153 - val_accuracy: 0.6649\n",
            "Epoch 10/100\n",
            "12/12 [==============================] - 0s 3ms/step - loss: 0.5809 - accuracy: 0.7402 - val_loss: 0.5769 - val_accuracy: 0.7234\n",
            "Epoch 11/100\n",
            "12/12 [==============================] - 0s 3ms/step - loss: 0.5433 - accuracy: 0.7769 - val_loss: 0.5436 - val_accuracy: 0.7394\n",
            "Epoch 12/100\n",
            "12/12 [==============================] - 0s 3ms/step - loss: 0.5108 - accuracy: 0.7953 - val_loss: 0.5141 - val_accuracy: 0.7872\n",
            "Epoch 13/100\n",
            "12/12 [==============================] - 0s 3ms/step - loss: 0.4816 - accuracy: 0.8136 - val_loss: 0.4884 - val_accuracy: 0.8085\n",
            "Epoch 14/100\n",
            "12/12 [==============================] - 0s 4ms/step - loss: 0.4559 - accuracy: 0.8320 - val_loss: 0.4656 - val_accuracy: 0.8245\n",
            "Epoch 15/100\n",
            "12/12 [==============================] - 0s 3ms/step - loss: 0.4330 - accuracy: 0.8530 - val_loss: 0.4454 - val_accuracy: 0.8245\n",
            "Epoch 16/100\n",
            "12/12 [==============================] - 0s 3ms/step - loss: 0.4132 - accuracy: 0.8609 - val_loss: 0.4266 - val_accuracy: 0.8457\n",
            "Epoch 17/100\n",
            "12/12 [==============================] - 0s 3ms/step - loss: 0.3944 - accuracy: 0.8688 - val_loss: 0.4101 - val_accuracy: 0.8511\n",
            "Epoch 18/100\n",
            "12/12 [==============================] - 0s 3ms/step - loss: 0.3780 - accuracy: 0.8766 - val_loss: 0.3946 - val_accuracy: 0.8564\n",
            "Epoch 19/100\n",
            "12/12 [==============================] - 0s 3ms/step - loss: 0.3626 - accuracy: 0.8819 - val_loss: 0.3808 - val_accuracy: 0.8564\n",
            "Epoch 20/100\n",
            "12/12 [==============================] - 0s 3ms/step - loss: 0.3487 - accuracy: 0.8950 - val_loss: 0.3682 - val_accuracy: 0.8670\n",
            "Epoch 21/100\n",
            "12/12 [==============================] - 0s 3ms/step - loss: 0.3363 - accuracy: 0.9003 - val_loss: 0.3563 - val_accuracy: 0.8723\n",
            "Epoch 22/100\n",
            "12/12 [==============================] - 0s 3ms/step - loss: 0.3247 - accuracy: 0.9003 - val_loss: 0.3452 - val_accuracy: 0.8777\n",
            "Epoch 23/100\n",
            "12/12 [==============================] - 0s 4ms/step - loss: 0.3138 - accuracy: 0.9108 - val_loss: 0.3349 - val_accuracy: 0.8883\n",
            "Epoch 24/100\n",
            "12/12 [==============================] - 0s 3ms/step - loss: 0.3040 - accuracy: 0.9160 - val_loss: 0.3251 - val_accuracy: 0.8883\n",
            "Epoch 25/100\n",
            "12/12 [==============================] - 0s 3ms/step - loss: 0.2943 - accuracy: 0.9213 - val_loss: 0.3163 - val_accuracy: 0.8883\n",
            "Epoch 26/100\n",
            "12/12 [==============================] - 0s 3ms/step - loss: 0.2857 - accuracy: 0.9265 - val_loss: 0.3080 - val_accuracy: 0.8883\n",
            "Epoch 27/100\n",
            "12/12 [==============================] - 0s 3ms/step - loss: 0.2777 - accuracy: 0.9318 - val_loss: 0.2999 - val_accuracy: 0.8883\n",
            "Epoch 28/100\n",
            "12/12 [==============================] - 0s 3ms/step - loss: 0.2700 - accuracy: 0.9370 - val_loss: 0.2926 - val_accuracy: 0.8989\n",
            "Epoch 29/100\n",
            "12/12 [==============================] - 0s 3ms/step - loss: 0.2628 - accuracy: 0.9370 - val_loss: 0.2858 - val_accuracy: 0.9096\n",
            "Epoch 30/100\n",
            "12/12 [==============================] - 0s 3ms/step - loss: 0.2562 - accuracy: 0.9370 - val_loss: 0.2790 - val_accuracy: 0.9096\n",
            "Epoch 31/100\n",
            "12/12 [==============================] - 0s 3ms/step - loss: 0.2497 - accuracy: 0.9344 - val_loss: 0.2727 - val_accuracy: 0.9096\n",
            "Epoch 32/100\n",
            "12/12 [==============================] - 0s 3ms/step - loss: 0.2437 - accuracy: 0.9344 - val_loss: 0.2667 - val_accuracy: 0.9096\n",
            "Epoch 33/100\n",
            "12/12 [==============================] - 0s 3ms/step - loss: 0.2380 - accuracy: 0.9396 - val_loss: 0.2611 - val_accuracy: 0.9096\n",
            "Epoch 34/100\n",
            "12/12 [==============================] - 0s 3ms/step - loss: 0.2326 - accuracy: 0.9423 - val_loss: 0.2558 - val_accuracy: 0.9096\n",
            "Epoch 35/100\n",
            "12/12 [==============================] - 0s 3ms/step - loss: 0.2275 - accuracy: 0.9449 - val_loss: 0.2506 - val_accuracy: 0.9096\n",
            "Epoch 36/100\n",
            "12/12 [==============================] - 0s 3ms/step - loss: 0.2225 - accuracy: 0.9475 - val_loss: 0.2459 - val_accuracy: 0.9096\n",
            "Epoch 37/100\n",
            "12/12 [==============================] - 0s 3ms/step - loss: 0.2180 - accuracy: 0.9475 - val_loss: 0.2411 - val_accuracy: 0.9096\n",
            "Epoch 38/100\n",
            "12/12 [==============================] - 0s 3ms/step - loss: 0.2135 - accuracy: 0.9475 - val_loss: 0.2367 - val_accuracy: 0.9096\n",
            "Epoch 39/100\n",
            "12/12 [==============================] - 0s 3ms/step - loss: 0.2091 - accuracy: 0.9475 - val_loss: 0.2326 - val_accuracy: 0.9149\n",
            "Epoch 40/100\n",
            "12/12 [==============================] - 0s 3ms/step - loss: 0.2053 - accuracy: 0.9475 - val_loss: 0.2284 - val_accuracy: 0.9149\n",
            "Epoch 41/100\n",
            "12/12 [==============================] - 0s 3ms/step - loss: 0.2014 - accuracy: 0.9528 - val_loss: 0.2244 - val_accuracy: 0.9255\n",
            "Epoch 42/100\n",
            "12/12 [==============================] - 0s 3ms/step - loss: 0.1975 - accuracy: 0.9528 - val_loss: 0.2208 - val_accuracy: 0.9255\n",
            "Epoch 43/100\n",
            "12/12 [==============================] - 0s 3ms/step - loss: 0.1941 - accuracy: 0.9528 - val_loss: 0.2173 - val_accuracy: 0.9309\n",
            "Epoch 44/100\n",
            "12/12 [==============================] - 0s 3ms/step - loss: 0.1907 - accuracy: 0.9554 - val_loss: 0.2138 - val_accuracy: 0.9362\n",
            "Epoch 45/100\n",
            "12/12 [==============================] - 0s 3ms/step - loss: 0.1874 - accuracy: 0.9554 - val_loss: 0.2104 - val_accuracy: 0.9362\n",
            "Epoch 46/100\n",
            "12/12 [==============================] - 0s 3ms/step - loss: 0.1843 - accuracy: 0.9554 - val_loss: 0.2073 - val_accuracy: 0.9362\n",
            "Epoch 47/100\n",
            "12/12 [==============================] - 0s 3ms/step - loss: 0.1813 - accuracy: 0.9554 - val_loss: 0.2042 - val_accuracy: 0.9362\n",
            "Epoch 48/100\n",
            "12/12 [==============================] - 0s 3ms/step - loss: 0.1784 - accuracy: 0.9554 - val_loss: 0.2014 - val_accuracy: 0.9362\n",
            "Epoch 49/100\n",
            "12/12 [==============================] - 0s 3ms/step - loss: 0.1756 - accuracy: 0.9554 - val_loss: 0.1986 - val_accuracy: 0.9362\n",
            "Epoch 50/100\n",
            "12/12 [==============================] - 0s 3ms/step - loss: 0.1729 - accuracy: 0.9554 - val_loss: 0.1960 - val_accuracy: 0.9362\n",
            "Epoch 51/100\n",
            "12/12 [==============================] - 0s 3ms/step - loss: 0.1704 - accuracy: 0.9606 - val_loss: 0.1933 - val_accuracy: 0.9415\n",
            "Epoch 52/100\n",
            "12/12 [==============================] - 0s 3ms/step - loss: 0.1679 - accuracy: 0.9606 - val_loss: 0.1907 - val_accuracy: 0.9415\n",
            "Epoch 53/100\n",
            "12/12 [==============================] - 0s 3ms/step - loss: 0.1655 - accuracy: 0.9606 - val_loss: 0.1884 - val_accuracy: 0.9415\n",
            "Epoch 54/100\n",
            "12/12 [==============================] - 0s 3ms/step - loss: 0.1632 - accuracy: 0.9606 - val_loss: 0.1861 - val_accuracy: 0.9415\n",
            "Epoch 55/100\n",
            "12/12 [==============================] - 0s 3ms/step - loss: 0.1610 - accuracy: 0.9606 - val_loss: 0.1838 - val_accuracy: 0.9415\n",
            "Epoch 56/100\n",
            "12/12 [==============================] - 0s 3ms/step - loss: 0.1589 - accuracy: 0.9633 - val_loss: 0.1816 - val_accuracy: 0.9415\n",
            "Epoch 57/100\n",
            "12/12 [==============================] - 0s 3ms/step - loss: 0.1568 - accuracy: 0.9659 - val_loss: 0.1795 - val_accuracy: 0.9415\n",
            "Epoch 58/100\n",
            "12/12 [==============================] - 0s 3ms/step - loss: 0.1548 - accuracy: 0.9659 - val_loss: 0.1774 - val_accuracy: 0.9468\n",
            "Epoch 59/100\n",
            "12/12 [==============================] - 0s 3ms/step - loss: 0.1529 - accuracy: 0.9659 - val_loss: 0.1755 - val_accuracy: 0.9468\n",
            "Epoch 60/100\n",
            "12/12 [==============================] - 0s 3ms/step - loss: 0.1510 - accuracy: 0.9659 - val_loss: 0.1736 - val_accuracy: 0.9468\n",
            "Epoch 61/100\n",
            "12/12 [==============================] - 0s 3ms/step - loss: 0.1492 - accuracy: 0.9685 - val_loss: 0.1718 - val_accuracy: 0.9468\n",
            "Epoch 62/100\n",
            "12/12 [==============================] - 0s 3ms/step - loss: 0.1475 - accuracy: 0.9685 - val_loss: 0.1699 - val_accuracy: 0.9468\n",
            "Epoch 63/100\n",
            "12/12 [==============================] - 0s 3ms/step - loss: 0.1458 - accuracy: 0.9685 - val_loss: 0.1682 - val_accuracy: 0.9521\n",
            "Epoch 64/100\n",
            "12/12 [==============================] - 0s 3ms/step - loss: 0.1441 - accuracy: 0.9685 - val_loss: 0.1667 - val_accuracy: 0.9468\n",
            "Epoch 65/100\n",
            "12/12 [==============================] - 0s 3ms/step - loss: 0.1425 - accuracy: 0.9711 - val_loss: 0.1651 - val_accuracy: 0.9521\n",
            "Epoch 66/100\n",
            "12/12 [==============================] - 0s 3ms/step - loss: 0.1410 - accuracy: 0.9711 - val_loss: 0.1636 - val_accuracy: 0.9521\n",
            "Epoch 67/100\n",
            "12/12 [==============================] - 0s 3ms/step - loss: 0.1396 - accuracy: 0.9711 - val_loss: 0.1619 - val_accuracy: 0.9521\n",
            "Epoch 68/100\n",
            "12/12 [==============================] - 0s 3ms/step - loss: 0.1380 - accuracy: 0.9711 - val_loss: 0.1605 - val_accuracy: 0.9521\n",
            "Epoch 69/100\n",
            "12/12 [==============================] - 0s 3ms/step - loss: 0.1367 - accuracy: 0.9711 - val_loss: 0.1590 - val_accuracy: 0.9521\n",
            "Epoch 70/100\n",
            "12/12 [==============================] - 0s 3ms/step - loss: 0.1353 - accuracy: 0.9711 - val_loss: 0.1576 - val_accuracy: 0.9521\n",
            "Epoch 71/100\n",
            "12/12 [==============================] - 0s 4ms/step - loss: 0.1340 - accuracy: 0.9711 - val_loss: 0.1562 - val_accuracy: 0.9521\n",
            "Epoch 72/100\n",
            "12/12 [==============================] - 0s 3ms/step - loss: 0.1327 - accuracy: 0.9711 - val_loss: 0.1549 - val_accuracy: 0.9521\n",
            "Epoch 73/100\n",
            "12/12 [==============================] - 0s 3ms/step - loss: 0.1314 - accuracy: 0.9711 - val_loss: 0.1536 - val_accuracy: 0.9574\n",
            "Epoch 74/100\n",
            "12/12 [==============================] - 0s 3ms/step - loss: 0.1302 - accuracy: 0.9738 - val_loss: 0.1524 - val_accuracy: 0.9574\n",
            "Epoch 75/100\n",
            "12/12 [==============================] - 0s 3ms/step - loss: 0.1290 - accuracy: 0.9738 - val_loss: 0.1512 - val_accuracy: 0.9574\n",
            "Epoch 76/100\n",
            "12/12 [==============================] - 0s 3ms/step - loss: 0.1279 - accuracy: 0.9738 - val_loss: 0.1501 - val_accuracy: 0.9628\n",
            "Epoch 77/100\n",
            "12/12 [==============================] - 0s 3ms/step - loss: 0.1268 - accuracy: 0.9738 - val_loss: 0.1488 - val_accuracy: 0.9628\n",
            "Epoch 78/100\n",
            "12/12 [==============================] - 0s 3ms/step - loss: 0.1256 - accuracy: 0.9738 - val_loss: 0.1477 - val_accuracy: 0.9628\n",
            "Epoch 79/100\n",
            "12/12 [==============================] - 0s 3ms/step - loss: 0.1246 - accuracy: 0.9738 - val_loss: 0.1466 - val_accuracy: 0.9628\n",
            "Epoch 80/100\n",
            "12/12 [==============================] - 0s 3ms/step - loss: 0.1236 - accuracy: 0.9738 - val_loss: 0.1456 - val_accuracy: 0.9628\n",
            "Epoch 81/100\n",
            "12/12 [==============================] - 0s 3ms/step - loss: 0.1225 - accuracy: 0.9738 - val_loss: 0.1445 - val_accuracy: 0.9628\n",
            "Epoch 82/100\n",
            "12/12 [==============================] - 0s 3ms/step - loss: 0.1215 - accuracy: 0.9738 - val_loss: 0.1435 - val_accuracy: 0.9628\n",
            "Epoch 83/100\n",
            "12/12 [==============================] - 0s 3ms/step - loss: 0.1206 - accuracy: 0.9738 - val_loss: 0.1425 - val_accuracy: 0.9628\n",
            "Epoch 84/100\n",
            "12/12 [==============================] - 0s 3ms/step - loss: 0.1196 - accuracy: 0.9738 - val_loss: 0.1416 - val_accuracy: 0.9628\n",
            "Epoch 85/100\n",
            "12/12 [==============================] - 0s 3ms/step - loss: 0.1187 - accuracy: 0.9738 - val_loss: 0.1406 - val_accuracy: 0.9628\n",
            "Epoch 86/100\n",
            "12/12 [==============================] - 0s 3ms/step - loss: 0.1178 - accuracy: 0.9738 - val_loss: 0.1396 - val_accuracy: 0.9628\n",
            "Epoch 87/100\n",
            "12/12 [==============================] - 0s 3ms/step - loss: 0.1170 - accuracy: 0.9738 - val_loss: 0.1387 - val_accuracy: 0.9628\n",
            "Epoch 88/100\n",
            "12/12 [==============================] - 0s 3ms/step - loss: 0.1161 - accuracy: 0.9738 - val_loss: 0.1379 - val_accuracy: 0.9628\n",
            "Epoch 89/100\n",
            "12/12 [==============================] - 0s 3ms/step - loss: 0.1153 - accuracy: 0.9764 - val_loss: 0.1370 - val_accuracy: 0.9628\n",
            "Epoch 90/100\n",
            "12/12 [==============================] - 0s 3ms/step - loss: 0.1144 - accuracy: 0.9764 - val_loss: 0.1361 - val_accuracy: 0.9628\n",
            "Epoch 91/100\n",
            "12/12 [==============================] - 0s 3ms/step - loss: 0.1136 - accuracy: 0.9764 - val_loss: 0.1353 - val_accuracy: 0.9628\n",
            "Epoch 92/100\n",
            "12/12 [==============================] - 0s 4ms/step - loss: 0.1129 - accuracy: 0.9764 - val_loss: 0.1345 - val_accuracy: 0.9628\n",
            "Epoch 93/100\n",
            "12/12 [==============================] - 0s 3ms/step - loss: 0.1121 - accuracy: 0.9764 - val_loss: 0.1336 - val_accuracy: 0.9628\n",
            "Epoch 94/100\n",
            "12/12 [==============================] - 0s 3ms/step - loss: 0.1114 - accuracy: 0.9764 - val_loss: 0.1328 - val_accuracy: 0.9628\n",
            "Epoch 95/100\n",
            "12/12 [==============================] - 0s 3ms/step - loss: 0.1106 - accuracy: 0.9764 - val_loss: 0.1321 - val_accuracy: 0.9628\n",
            "Epoch 96/100\n",
            "12/12 [==============================] - 0s 3ms/step - loss: 0.1099 - accuracy: 0.9764 - val_loss: 0.1314 - val_accuracy: 0.9628\n",
            "Epoch 97/100\n",
            "12/12 [==============================] - 0s 3ms/step - loss: 0.1092 - accuracy: 0.9764 - val_loss: 0.1307 - val_accuracy: 0.9628\n",
            "Epoch 98/100\n",
            "12/12 [==============================] - 0s 3ms/step - loss: 0.1085 - accuracy: 0.9764 - val_loss: 0.1300 - val_accuracy: 0.9628\n",
            "Epoch 99/100\n",
            "12/12 [==============================] - 0s 3ms/step - loss: 0.1079 - accuracy: 0.9764 - val_loss: 0.1293 - val_accuracy: 0.9628\n",
            "Epoch 100/100\n",
            "12/12 [==============================] - 0s 3ms/step - loss: 0.1072 - accuracy: 0.9764 - val_loss: 0.1285 - val_accuracy: 0.9628\n"
          ],
          "name": "stdout"
        }
      ]
    },
    {
      "cell_type": "code",
      "metadata": {
        "colab": {
          "base_uri": "https://localhost:8080/"
        },
        "id": "GyRjBfMYplAw",
        "outputId": "1c50fd30-1777-414d-867a-9458f02747a1"
      },
      "source": [
        "# Evaluate\n",
        "\n",
        "print(model.evaluate(X_train, y_train))\n",
        "print(model.evaluate(X_test, y_test))"
      ],
      "execution_count": 26,
      "outputs": [
        {
          "output_type": "stream",
          "text": [
            "12/12 [==============================] - 0s 1ms/step - loss: 0.1068 - accuracy: 0.9764\n",
            "[0.1068035140633583, 0.9763779640197754]\n",
            "6/6 [==============================] - 0s 1ms/step - loss: 0.1285 - accuracy: 0.9628\n",
            "[0.12852723896503448, 0.9627659320831299]\n"
          ],
          "name": "stdout"
        }
      ]
    },
    {
      "cell_type": "code",
      "metadata": {
        "colab": {
          "base_uri": "https://localhost:8080/",
          "height": 295
        },
        "id": "Nt0MBRxep5-e",
        "outputId": "7eeacda4-ad2f-4d7a-f670-09d98726fb3a"
      },
      "source": [
        "import matplotlib.pyplot as plt\n",
        "plt.plot(r.history['loss'], label='loss')\n",
        "plt.plot(r.history['val_loss'], label='val_loss')\n",
        "plt.title(\"Loss and Validation Loss\", loc='center')\n",
        "plt.xlabel(\"Loss and Val Loss\")\n",
        "plt.ylabel(\"Iteration\")\n",
        "plt.legend();"
      ],
      "execution_count": 27,
      "outputs": [
        {
          "output_type": "display_data",
          "data": {
            "image/png": "[encoded data removed]",
            "text/plain": [
              "<Figure size 432x288 with 1 Axes>"
            ]
          },
          "metadata": {
            "tags": [],
            "needs_background": "light"
          }
        }
      ]
    },
    {
      "cell_type": "code",
      "metadata": {
        "colab": {
          "base_uri": "https://localhost:8080/",
          "height": 295
        },
        "id": "ivJM14ypqTUr",
        "outputId": "f3dd7c48-5a26-4a47-8c22-384f42597fd9"
      },
      "source": [
        "import matplotlib.pyplot as plt\n",
        "plt.plot(r.history['accuracy'], label='acc')\n",
        "plt.plot(r.history['val_accuracy'], label='val_acc')\n",
        "plt.title(\"Accuracy and Validation Accuracy\", loc='center')\n",
        "plt.xlabel(\"Accuracy and Val Accuracy\")\n",
        "plt.ylabel(\"Iteration\")\n",
        "plt.legend();"
      ],
      "execution_count": 28,
      "outputs": [
        {
          "output_type": "display_data",
          "data": {
            "image/png": "[encoded data removed]",
            "text/plain": [
              "<Figure size 432x288 with 1 Axes>"
            ]
          },
          "metadata": {
            "tags": [],
            "needs_background": "light"
          }
        }
      ]
    },
    {
      "cell_type": "code",
      "metadata": {
        "colab": {
          "base_uri": "https://localhost:8080/"
        },
        "id": "S9MAWr3Vqb4T",
        "outputId": "91678a5b-aa52-4c02-e6dc-651e47513bcd"
      },
      "source": [
        "y_pred = model.predict(X_test)\n",
        "print(y_pred)"
      ],
      "execution_count": 29,
      "outputs": [
        {
          "output_type": "stream",
          "text": [
            "[[9.97122169e-01]\n",
            " [8.99037242e-01]\n",
            " [9.70298767e-01]\n",
            " [6.41679645e-01]\n",
            " [2.34419435e-01]\n",
            " [3.17857563e-02]\n",
            " [9.98814344e-01]\n",
            " [2.95184163e-05]\n",
            " [9.95589852e-01]\n",
            " [3.77871096e-01]\n",
            " [9.90036011e-01]\n",
            " [3.87349725e-03]\n",
            " [2.65429616e-02]\n",
            " [7.66754150e-04]\n",
            " [9.73061800e-01]\n",
            " [4.08557057e-03]\n",
            " [7.99183846e-02]\n",
            " [9.24327314e-01]\n",
            " [9.38297629e-01]\n",
            " [6.23753190e-01]\n",
            " [5.89726269e-01]\n",
            " [9.18788016e-01]\n",
            " [9.89028573e-01]\n",
            " [9.96425748e-01]\n",
            " [9.12013233e-01]\n",
            " [9.96451974e-01]\n",
            " [8.95553350e-01]\n",
            " [9.79329467e-01]\n",
            " [9.78287697e-01]\n",
            " [9.99058962e-01]\n",
            " [2.40234137e-02]\n",
            " [9.32807267e-01]\n",
            " [9.78542686e-01]\n",
            " [9.21413898e-01]\n",
            " [7.73823500e-01]\n",
            " [9.83881235e-01]\n",
            " [9.97584879e-01]\n",
            " [9.66908693e-01]\n",
            " [7.69426584e-01]\n",
            " [9.90066946e-01]\n",
            " [9.86530066e-01]\n",
            " [8.02392364e-01]\n",
            " [9.57506895e-03]\n",
            " [7.67208636e-02]\n",
            " [5.11903644e-01]\n",
            " [9.82330859e-01]\n",
            " [9.67773378e-01]\n",
            " [9.92113352e-01]\n",
            " [9.63417649e-01]\n",
            " [8.81898999e-02]\n",
            " [9.78836060e-01]\n",
            " [4.76162970e-01]\n",
            " [6.24328673e-01]\n",
            " [7.22131908e-01]\n",
            " [9.87760603e-01]\n",
            " [3.36094767e-01]\n",
            " [3.19483876e-03]\n",
            " [9.91561472e-01]\n",
            " [9.72140431e-01]\n",
            " [9.30324078e-01]\n",
            " [4.68244851e-02]\n",
            " [7.35306919e-01]\n",
            " [2.02748179e-03]\n",
            " [2.24852562e-03]\n",
            " [9.37309504e-01]\n",
            " [8.92125487e-01]\n",
            " [9.92768764e-01]\n",
            " [6.87511861e-01]\n",
            " [9.90700841e-01]\n",
            " [9.20991957e-01]\n",
            " [9.93533015e-01]\n",
            " [9.42079484e-01]\n",
            " [7.48388290e-01]\n",
            " [9.90205288e-01]\n",
            " [9.90927815e-01]\n",
            " [4.08947766e-02]\n",
            " [9.86016393e-01]\n",
            " [6.39572740e-03]\n",
            " [5.60988963e-01]\n",
            " [9.74692762e-01]\n",
            " [1.21802092e-03]\n",
            " [2.83578336e-02]\n",
            " [1.15224719e-02]\n",
            " [9.32786465e-01]\n",
            " [9.26084638e-01]\n",
            " [9.91471767e-01]\n",
            " [8.93205404e-04]\n",
            " [3.08571458e-01]\n",
            " [2.15658545e-02]\n",
            " [8.73223901e-01]\n",
            " [9.91291344e-01]\n",
            " [3.26651335e-03]\n",
            " [9.52580452e-01]\n",
            " [9.22376275e-01]\n",
            " [9.99675989e-01]\n",
            " [9.96801972e-01]\n",
            " [9.99512076e-01]\n",
            " [7.88697600e-03]\n",
            " [5.33778131e-01]\n",
            " [1.70931220e-03]\n",
            " [2.66855359e-02]\n",
            " [7.78970122e-01]\n",
            " [3.24590564e-01]\n",
            " [3.92872095e-03]\n",
            " [9.92506266e-01]\n",
            " [6.00008070e-02]\n",
            " [6.27853394e-01]\n",
            " [9.56214905e-01]\n",
            " [4.68651533e-01]\n",
            " [9.09736753e-01]\n",
            " [9.93983090e-01]\n",
            " [2.21200526e-01]\n",
            " [9.83922422e-01]\n",
            " [9.77438688e-01]\n",
            " [9.22757506e-01]\n",
            " [9.83877659e-01]\n",
            " [7.22667277e-02]\n",
            " [9.25153852e-01]\n",
            " [9.97819364e-01]\n",
            " [8.62983048e-01]\n",
            " [9.64530408e-01]\n",
            " [2.30979919e-03]\n",
            " [2.80839205e-03]\n",
            " [9.30072486e-01]\n",
            " [9.64567125e-01]\n",
            " [2.58172331e-05]\n",
            " [5.30701578e-02]\n",
            " [9.47509944e-01]\n",
            " [8.28461528e-01]\n",
            " [9.84053850e-01]\n",
            " [9.28760946e-01]\n",
            " [2.88382173e-03]\n",
            " [9.80159879e-01]\n",
            " [6.42294884e-01]\n",
            " [1.09177828e-03]\n",
            " [4.63336706e-04]\n",
            " [9.58297968e-01]\n",
            " [9.36160326e-01]\n",
            " [9.38625872e-01]\n",
            " [3.64155471e-02]\n",
            " [4.61849481e-01]\n",
            " [2.72834301e-03]\n",
            " [8.52491856e-01]\n",
            " [9.34213758e-01]\n",
            " [7.87499189e-01]\n",
            " [1.22843385e-02]\n",
            " [6.07524812e-01]\n",
            " [9.94254231e-01]\n",
            " [9.91770864e-01]\n",
            " [5.20389676e-01]\n",
            " [2.85872817e-02]\n",
            " [9.69794750e-01]\n",
            " [9.97491658e-01]\n",
            " [9.70084906e-01]\n",
            " [6.26623631e-04]\n",
            " [4.03042972e-01]\n",
            " [9.18419123e-01]\n",
            " [9.79894280e-01]\n",
            " [9.30216372e-01]\n",
            " [2.30461359e-04]\n",
            " [6.89744949e-04]\n",
            " [7.58781731e-02]\n",
            " [9.70991492e-01]\n",
            " [8.64606023e-01]\n",
            " [7.25951493e-02]\n",
            " [9.99835253e-01]\n",
            " [9.40215826e-01]\n",
            " [3.17797661e-02]\n",
            " [2.08674639e-01]\n",
            " [9.26335197e-05]\n",
            " [4.18218171e-09]\n",
            " [2.74442846e-06]\n",
            " [8.18041444e-01]\n",
            " [5.53050637e-03]\n",
            " [9.50334907e-01]\n",
            " [9.01797354e-01]\n",
            " [9.27944779e-01]\n",
            " [5.93550026e-01]\n",
            " [3.38458419e-02]\n",
            " [3.69578600e-03]\n",
            " [6.00244522e-01]\n",
            " [9.87175703e-01]\n",
            " [9.32891309e-01]\n",
            " [7.71710455e-01]\n",
            " [1.30987167e-02]\n",
            " [9.72591817e-01]\n",
            " [9.71584797e-01]\n",
            " [3.07258874e-01]]\n"
          ],
          "name": "stdout"
        }
      ]
    },
    {
      "cell_type": "code",
      "metadata": {
        "colab": {
          "base_uri": "https://localhost:8080/"
        },
        "id": "_CBxSuuKqhOj",
        "outputId": "7a28d18b-c19c-4e2f-8d8d-c6ed0042e82c"
      },
      "source": [
        "import numpy as np\n",
        "y_pred=np.round(y_pred).flatten()\n",
        "y_pred"
      ],
      "execution_count": 31,
      "outputs": [
        {
          "output_type": "execute_result",
          "data": {
            "text/plain": [
              "array([1., 1., 1., 1., 0., 0., 1., 0., 1., 0., 1., 0., 0., 0., 1., 0., 0.,\n",
              "       1., 1., 1., 1., 1., 1., 1., 1., 1., 1., 1., 1., 1., 0., 1., 1., 1.,\n",
              "       1., 1., 1., 1., 1., 1., 1., 1., 0., 0., 1., 1., 1., 1., 1., 0., 1.,\n",
              "       0., 1., 1., 1., 0., 0., 1., 1., 1., 0., 1., 0., 0., 1., 1., 1., 1.,\n",
              "       1., 1., 1., 1., 1., 1., 1., 0., 1., 0., 1., 1., 0., 0., 0., 1., 1.,\n",
              "       1., 0., 0., 0., 1., 1., 0., 1., 1., 1., 1., 1., 0., 1., 0., 0., 1.,\n",
              "       0., 0., 1., 0., 1., 1., 0., 1., 1., 0., 1., 1., 1., 1., 0., 1., 1.,\n",
              "       1., 1., 0., 0., 1., 1., 0., 0., 1., 1., 1., 1., 0., 1., 1., 0., 0.,\n",
              "       1., 1., 1., 0., 0., 0., 1., 1., 1., 0., 1., 1., 1., 1., 0., 1., 1.,\n",
              "       1., 0., 0., 1., 1., 1., 0., 0., 0., 1., 1., 0., 1., 1., 0., 0., 0.,\n",
              "       0., 0., 1., 0., 1., 1., 1., 1., 0., 0., 1., 1., 1., 1., 0., 1., 1.,\n",
              "       0.], dtype=float32)"
            ]
          },
          "metadata": {
            "tags": []
          },
          "execution_count": 31
        }
      ]
    },
    {
      "cell_type": "code",
      "metadata": {
        "colab": {
          "base_uri": "https://localhost:8080/"
        },
        "id": "MxgRUrzdqyfk",
        "outputId": "a66d369c-8165-47b4-d1a6-3f972af71019"
      },
      "source": [
        "np.mean(y_pred==y_test)"
      ],
      "execution_count": 32,
      "outputs": [
        {
          "output_type": "execute_result",
          "data": {
            "text/plain": [
              "0.9627659574468085"
            ]
          },
          "metadata": {
            "tags": []
          },
          "execution_count": 32
        }
      ]
    },
    {
      "cell_type": "code",
      "metadata": {
        "colab": {
          "base_uri": "https://localhost:8080/"
        },
        "id": "5D2TtGFUrEOq",
        "outputId": "629be6c3-2e99-4b49-d601-7c3eee227adc"
      },
      "source": [
        "model.evaluate(X_test, y_test)"
      ],
      "execution_count": 33,
      "outputs": [
        {
          "output_type": "stream",
          "text": [
            "6/6 [==============================] - 0s 1ms/step - loss: 0.1285 - accuracy: 0.9628\n"
          ],
          "name": "stdout"
        },
        {
          "output_type": "execute_result",
          "data": {
            "text/plain": [
              "[0.12852723896503448, 0.9627659320831299]"
            ]
          },
          "metadata": {
            "tags": []
          },
          "execution_count": 33
        }
      ]
    },
    {
      "cell_type": "code",
      "metadata": {
        "id": "Wba4pwxwrNu-"
      },
      "source": [
        ""
      ],
      "execution_count": null,
      "outputs": []
    }
  ]
}