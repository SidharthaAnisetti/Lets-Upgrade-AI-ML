{
 "cells": [
  {
   "cell_type": "markdown",
   "metadata": {},
   "source": [
    "__Assignment Day 7__"
   ]
  },
  {
   "cell_type": "markdown",
   "metadata": {},
   "source": [
    "__Question 1__\n",
    "\n",
    "Write a program to copy the contents of one of the contents of one file to another file. (Dont use built-in copy function)"
   ]
  },
  {
   "cell_type": "code",
   "execution_count": 6,
   "metadata": {},
   "outputs": [
    {
     "name": "stdout",
     "output_type": "stream",
     "text": [
      "sidhartha\n",
      "\n",
      "copied contents are:\n",
      "\n",
      "copied contents are:\n",
      "sidhartha\n",
      "\n"
     ]
    }
   ],
   "source": [
    "file1 = open('file1.txt','w')\n",
    "file1.write(\"sidhartha\\n\")\n",
    "file1 = open('file1.txt','r')\n",
    "print(file1.read())\n",
    "file1.close()\n",
    "\n",
    "\n",
    "file2 = open('file2.txt','w')\n",
    "file2.write('copied contents are:\\n')\n",
    "file2 = open('file2.txt','r')\n",
    "print(file2.read())\n",
    "file2.close()\n",
    "\n",
    "file2 = open('file2.txt','a')\n",
    "file1 = open('file1.txt','r') \n",
    "for line in file1.read():\n",
    "    file2.write(line)\n",
    "file2 = open('file2.txt','r')\n",
    "print(file2.read())\n",
    "file1.close()\n",
    "file2.close()\n",
    "\n"
   ]
  },
  {
   "cell_type": "markdown",
   "metadata": {},
   "source": [
    "__Question 2__\n",
    "\n",
    "Write a program to find maximum and minimum values in the dictionary. Do not use built-in min and max functions.\n"
   ]
  },
  {
   "cell_type": "code",
   "execution_count": 7,
   "metadata": {},
   "outputs": [
    {
     "name": "stdout",
     "output_type": "stream",
     "text": [
      "Maximum Value:  5874\n",
      "Minimum Value:  500\n"
     ]
    }
   ],
   "source": [
    "my_dict = {'x':500, 'y':5874, 'z': 560}\n",
    "\n",
    "key_max = max(my_dict.keys(), key=(lambda k: my_dict[k]))\n",
    "key_min = min(my_dict.keys(), key=(lambda k: my_dict[k]))\n",
    "\n",
    "print('Maximum Value: ',my_dict[key_max])\n",
    "print('Minimum Value: ',my_dict[key_min])\n"
   ]
  },
  {
   "cell_type": "code",
   "execution_count": null,
   "metadata": {},
   "outputs": [],
   "source": []
  }
 ],
 "metadata": {
  "kernelspec": {
   "display_name": "Python 3",
   "language": "python",
   "name": "python3"
  },
  "language_info": {
   "codemirror_mode": {
    "name": "ipython",
    "version": 3
   },
   "file_extension": ".py",
   "mimetype": "text/x-python",
   "name": "python",
   "nbconvert_exporter": "python",
   "pygments_lexer": "ipython3",
   "version": "3.8.3"
  }
 },
 "nbformat": 4,
 "nbformat_minor": 4
}
