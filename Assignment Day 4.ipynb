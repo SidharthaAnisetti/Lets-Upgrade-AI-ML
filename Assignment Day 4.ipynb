{
 "cells": [
  {
   "cell_type": "markdown",
   "metadata": {},
   "source": [
    "__Assignment Day4__"
   ]
  },
  {
   "cell_type": "code",
   "execution_count": 1,
   "metadata": {},
   "outputs": [
    {
     "name": "stdout",
     "output_type": "stream",
     "text": [
      "Addition of two complex number = (9+21j)\n",
      "Subtraction of two complex number = (-3-9j)\n",
      "Multiplication of two complex number = (-72+81j)\n",
      "Division of two complex number = (0.4137931034482759-0.03448275862068964j)\n"
     ]
    }
   ],
   "source": [
    "#question 1\n",
    "\n",
    "#We can do simple mathematical calculations on complex numbers\n",
    "\n",
    "#first complex number\n",
    "c1 = 3 + 6j\n",
    "#Second complex number\n",
    "c2 = 6 + 15j\n",
    "\n",
    "#Addition\n",
    "print(\"Addition of two complex number =\", c1 + c2)\n",
    "\n",
    "#Subtraction\n",
    "print(\"Subtraction of two complex number =\", c1 - c2)\n",
    "\n",
    "#Multiplication\n",
    "print(\"Multiplication of two complex number =\", c1 * c2)\n",
    "\n",
    "#Division\n",
    "print(\"Division of two complex number =\", c1 / c2)"
   ]
  },
  {
   "cell_type": "markdown",
   "metadata": {},
   "source": [
    "we cant perfrom modulo operations on complex numbers\n",
    "\n",
    "we cant perform floor division on complex numbers\n",
    "\n",
    "it gives error."
   ]
  },
  {
   "cell_type": "code",
   "execution_count": 7,
   "metadata": {},
   "outputs": [],
   "source": [
    "# question 2\n",
    "\n"
   ]
  },
  {
   "cell_type": "markdown",
   "metadata": {},
   "source": [
    "__range() function__\n",
    "    \n",
    "It is always used only on iterables\n",
    "\n",
    "\n",
    "i.e in for loops, while loops.\n",
    "\n",
    "eg.\n",
    "\n",
    "for i in range(10):\n",
    "\n",
    "    print(i)\n",
    "            \n",
    "range(n) gives all the integer values from 0 to n-1 values.\n",
    "\n",
    "range(start,end) gives all the integer values from start and end-1.\n",
    "\n",
    "range(start,end,stepsize)  gives all the values from start to end-1 with a stepsize. by default stepsize is zero.\n",
    "\n",
    "\n",
    "    \n",
    "    "
   ]
  },
  {
   "cell_type": "code",
   "execution_count": 9,
   "metadata": {},
   "outputs": [
    {
     "data": {
      "text/plain": [
       "range(0, 5)"
      ]
     },
     "execution_count": 9,
     "metadata": {},
     "output_type": "execute_result"
    }
   ],
   "source": [
    "range(5)"
   ]
  },
  {
   "cell_type": "code",
   "execution_count": 11,
   "metadata": {},
   "outputs": [
    {
     "name": "stdout",
     "output_type": "stream",
     "text": [
      "0\n",
      "1\n",
      "2\n",
      "3\n",
      "4\n"
     ]
    }
   ],
   "source": [
    "for i in range(5):\n",
    "    print(i)"
   ]
  },
  {
   "cell_type": "code",
   "execution_count": 13,
   "metadata": {},
   "outputs": [
    {
     "name": "stdout",
     "output_type": "stream",
     "text": [
      "1\n",
      "2\n",
      "3\n",
      "4\n"
     ]
    }
   ],
   "source": [
    "for i in range(1,5):\n",
    "    print(i)"
   ]
  },
  {
   "cell_type": "code",
   "execution_count": 15,
   "metadata": {},
   "outputs": [
    {
     "name": "stdout",
     "output_type": "stream",
     "text": [
      "1\n",
      "3\n",
      "5\n",
      "7\n"
     ]
    }
   ],
   "source": [
    "for i in range(1,9,2):\n",
    "    print(i)"
   ]
  },
  {
   "cell_type": "code",
   "execution_count": 17,
   "metadata": {},
   "outputs": [
    {
     "name": "stdout",
     "output_type": "stream",
     "text": [
      "a= 60\n",
      "b= 30\n",
      "multiplication result= 1800\n"
     ]
    }
   ],
   "source": [
    "#question 3\n",
    "\n",
    "#first number\n",
    "a = 60\n",
    "print(\"a=\",a)\n",
    "#second number\n",
    "b = 30\n",
    "print(\"b=\",b)\n",
    "\n",
    "if a-b>25:\n",
    "    print(\"multiplication result=\", a*b)\n",
    "else:\n",
    "    print(\"division result=\", a/b)"
   ]
  },
  {
   "cell_type": "code",
   "execution_count": 19,
   "metadata": {},
   "outputs": [
    {
     "name": "stdout",
     "output_type": "stream",
     "text": [
      "a= 40\n",
      "b= 30\n",
      "division result= 1.3333333333333333\n"
     ]
    }
   ],
   "source": [
    "#question 3\n",
    "\n",
    "#first number\n",
    "a = 40\n",
    "print(\"a=\",a)\n",
    "#second number\n",
    "b = 30\n",
    "print(\"b=\",b)\n",
    "\n",
    "if a-b>25:\n",
    "    print(\"multiplication result=\", a*b)\n",
    "else:\n",
    "    print(\"division result=\", a/b)"
   ]
  },
  {
   "cell_type": "code",
   "execution_count": 20,
   "metadata": {},
   "outputs": [
    {
     "name": "stdout",
     "output_type": "stream",
     "text": [
      "1\n",
      "square of that number minus 2\n",
      "3\n",
      "square of that number minus 2\n",
      "5\n",
      "square of that number minus 2\n",
      "7\n",
      "square of that number minus 2\n",
      "9\n",
      "square of that number minus 2\n"
     ]
    }
   ],
   "source": [
    "#question 4\n",
    "\n",
    "#list\n",
    "l = [1,2,3,4,5,6,7,8,9,10]\n",
    "\n",
    "for i in l:\n",
    "    if i%2==0:\n",
    "        print(\"square of that number minus 2\")\n",
    "    else:\n",
    "        print(i)"
   ]
  },
  {
   "cell_type": "code",
   "execution_count": 21,
   "metadata": {},
   "outputs": [
    {
     "name": "stdout",
     "output_type": "stream",
     "text": [
      "1\n",
      "square of that number minus 2 = 2\n",
      "3\n",
      "square of that number minus 2 = 14\n",
      "5\n",
      "square of that number minus 2 = 34\n",
      "7\n",
      "square of that number minus 2 = 62\n",
      "9\n",
      "square of that number minus 2 = 98\n"
     ]
    }
   ],
   "source": [
    "#question 4\n",
    "\n",
    "l = [1,2,3,4,5,6,7,8,9,10]\n",
    "\n",
    "for i in l:\n",
    "    if i%2==0:\n",
    "        print(\"square of that number minus 2 =\", i**2-2)\n",
    "    else:\n",
    "        print(i)"
   ]
  },
  {
   "cell_type": "code",
   "execution_count": 23,
   "metadata": {},
   "outputs": [
    {
     "name": "stdout",
     "output_type": "stream",
     "text": [
      "8\n",
      "16\n",
      "20\n",
      "22\n",
      "30\n",
      "40\n"
     ]
    }
   ],
   "source": [
    "#question 5\n",
    "\n",
    "#list\n",
    "r = [6,8,16,17,20,21,22,30,31,40]\n",
    "\n",
    "for i in r:\n",
    "    if i%2==0:\n",
    "        if i>7:\n",
    "            print(i)\n",
    "        \n",
    "        "
   ]
  },
  {
   "cell_type": "code",
   "execution_count": null,
   "metadata": {},
   "outputs": [],
   "source": []
  }
 ],
 "metadata": {
  "kernelspec": {
   "display_name": "Python 3",
   "language": "python",
   "name": "python3"
  },
  "language_info": {
   "codemirror_mode": {
    "name": "ipython",
    "version": 3
   },
   "file_extension": ".py",
   "mimetype": "text/x-python",
   "name": "python",
   "nbconvert_exporter": "python",
   "pygments_lexer": "ipython3",
   "version": "3.7.6"
  }
 },
 "nbformat": 4,
 "nbformat_minor": 4
}
