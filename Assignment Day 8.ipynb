{
 "cells": [
  {
   "cell_type": "markdown",
   "metadata": {},
   "source": [
    "__Assignment Day8__"
   ]
  },
  {
   "cell_type": "markdown",
   "metadata": {},
   "source": [
    "__Question 1__"
   ]
  },
  {
   "cell_type": "markdown",
   "metadata": {},
   "source": [
    "Recreate “NB 21 map, filter, lambda.ipynb” to try different variations or perform different calculations from\n",
    "the ones that are in the NB"
   ]
  },
  {
   "cell_type": "markdown",
   "metadata": {},
   "source": [
    "__map(), filter() and reduce() are built-in functions of Python.__\n",
    "\n",
    "These functions enable the functional programming aspect of Python.\n",
    "\n",
    "In Functional Programming, the arguments passed are the only factors that decide upon the output.\n",
    "\n",
    "These functions can take any other function as a parameter and can be supplied to other functions as parameters as well.\n",
    "\n",
    "__map()-__\n",
    "\n",
    "It applies the given function to all iterables and returns a new list.\n",
    "\n",
    "SYNTAX:\n",
    "\n",
    "map(function, iterables)"
   ]
  },
  {
   "cell_type": "code",
   "execution_count": 1,
   "metadata": {},
   "outputs": [
    {
     "name": "stdout",
     "output_type": "stream",
     "text": [
      "625\n"
     ]
    }
   ],
   "source": [
    "# map(function, iterables)\n",
    "def sqr(a):\n",
    "    return a*a\n",
    "x= sqr(25)\n",
    "print(x)"
   ]
  },
  {
   "cell_type": "code",
   "execution_count": 21,
   "metadata": {},
   "outputs": [
    {
     "name": "stdout",
     "output_type": "stream",
     "text": [
      "<map object at 0x000001B423A92508>\n",
      "<class 'map'>\n",
      "[1, 2, 0, 1, 0, 2]\n",
      "()\n",
      "set()\n"
     ]
    }
   ],
   "source": [
    "# map(function, iterables)\n",
    "def mod(a):\n",
    "    return a%3\n",
    "# your code goes here2\n",
    "x = map(mod,[25,35,30,40,51,53])\n",
    "print(x)\n",
    "print(type(x))\n",
    "print(list(x))\n",
    "print(tuple(x))\n",
    "print(set(x))"
   ]
  },
  {
   "cell_type": "code",
   "execution_count": 24,
   "metadata": {},
   "outputs": [
    {
     "name": "stdout",
     "output_type": "stream",
     "text": [
      "[22.0, 110.5, 10.0, 33.5, 2.5]\n"
     ]
    }
   ],
   "source": [
    "# map(function, iterables)\n",
    "def div(a,b):\n",
    "    return a/b\n",
    "# your code goes here\n",
    "x = map(div, [44,221,20,67,5], [2,2,2,2,2] )\n",
    "print(list(x))"
   ]
  },
  {
   "cell_type": "code",
   "execution_count": 23,
   "metadata": {},
   "outputs": [
    {
     "name": "stdout",
     "output_type": "stream",
     "text": [
      "[5, 11, 16, 22]\n"
     ]
    }
   ],
   "source": [
    "# map(function, iterables)\n",
    "def floor(a,b):\n",
    "    return a//b\n",
    "# your code goes here\n",
    "print(list(map(floor, [11,22,33,44], [2,2,2,2] )))"
   ]
  },
  {
   "cell_type": "code",
   "execution_count": 22,
   "metadata": {},
   "outputs": [
    {
     "name": "stdout",
     "output_type": "stream",
     "text": [
      "[0, 2, 4, 6, 8]\n"
     ]
    }
   ],
   "source": [
    "# map(function, iterables)\n",
    "def sqr(a,b):\n",
    "    return a*b\n",
    "# your code goes here\n",
    "print(list(map(sqr, [ i for i in range(5)], (2,2,2,2,2) )))\n"
   ]
  },
  {
   "cell_type": "markdown",
   "metadata": {},
   "source": [
    "__Lambda functions__\n",
    "\n",
    "Everything in the world of programming requires a name, but there still there are a few ananymous mysteries. Lambda functions or Lambda expressions are one of these kind of entities that are nameless.\n",
    "\n",
    "They are the functions that do not have any name.\n",
    "\n",
    "We also call them as anonymous or nameless functions.\n",
    "\n",
    "They are generally provided as input to other functions.\n",
    "\n",
    "Lambda functions are single line functions. Therefore we have to provide the expression along with the function itself.\n",
    "\n",
    "Note: 'lambda' is not a name, it s a keyword.\n",
    "\n",
    "Use of lambda functions:\n",
    "\n",
    "One time use: They are used in places where we know that the function will be required just once. Therefore, lambda functions are also called as throw away functions.\n",
    "\n",
    "Input/Output to other functions: They are also passed as inputs or returned as outputs of other higher-order functions.\n",
    "\n",
    "Reduce Code size: The body of lambda functions is written in a single line.\n",
    "\n",
    "SYNTAX:\n",
    "\n",
    "lambda arguments: expression"
   ]
  },
  {
   "cell_type": "code",
   "execution_count": 8,
   "metadata": {},
   "outputs": [
    {
     "data": {
      "text/plain": [
       "6"
      ]
     },
     "execution_count": 8,
     "metadata": {},
     "output_type": "execute_result"
    }
   ],
   "source": [
    "\n",
    "# without lambda\n",
    "def add(a):\n",
    "    return a+a\n",
    "\n",
    "add(3)"
   ]
  },
  {
   "cell_type": "code",
   "execution_count": 9,
   "metadata": {},
   "outputs": [
    {
     "data": {
      "text/plain": [
       "6"
      ]
     },
     "execution_count": 9,
     "metadata": {},
     "output_type": "execute_result"
    }
   ],
   "source": [
    "# with lambda\n",
    "x = lambda a: a+a\n",
    "x(3)"
   ]
  },
  {
   "cell_type": "code",
   "execution_count": 10,
   "metadata": {},
   "outputs": [
    {
     "data": {
      "text/plain": [
       "9"
      ]
     },
     "execution_count": 10,
     "metadata": {},
     "output_type": "execute_result"
    }
   ],
   "source": [
    "# Solving Algebraic expressions using lambda\n",
    "# LINEAR EQUATIONS\n",
    "# Snippet 1:\n",
    "x = lambda a: a*a\n",
    "x(3)"
   ]
  },
  {
   "cell_type": "code",
   "execution_count": 11,
   "metadata": {},
   "outputs": [
    {
     "data": {
      "text/plain": [
       "3.3333333333333335"
      ]
     },
     "execution_count": 11,
     "metadata": {},
     "output_type": "execute_result"
    }
   ],
   "source": [
    "# Solving Algebraic expressions using lambda\n",
    "# LINEAR EQUATIONS\n",
    "# Snippet 2: 5x/3y\n",
    "z = lambda x,y: 5*x/3*y\n",
    "z(1,2)"
   ]
  },
  {
   "cell_type": "code",
   "execution_count": 12,
   "metadata": {},
   "outputs": [
    {
     "name": "stdout",
     "output_type": "stream",
     "text": [
      "25\n",
      "[31, 62, 93, 124]\n"
     ]
    }
   ],
   "source": [
    "# Solving Algebraic expressions using lambda\n",
    "# QUADRATIC EQUATIONS\n",
    "# Snippet 1: (a+b)^2\n",
    "z = lambda x,y: (x+y)**2\n",
    "print(z(2,3))\n",
    "\n",
    "# Use lambda functions along with map function\n",
    "l = [1,2,3,4]\n",
    "x = map(lambda x: x*31,l)\n",
    "print(list(x))\n"
   ]
  },
  {
   "cell_type": "markdown",
   "metadata": {},
   "source": [
    "__filter()__\n",
    "\n",
    "It is used to filter the given iterables with the help of another function passed as an argument to test all the elements to be True or False.\n",
    "\n",
    "SYNTAX:\n",
    "\n",
    "filter(function, iterables)"
   ]
  },
  {
   "cell_type": "code",
   "execution_count": 15,
   "metadata": {},
   "outputs": [
    {
     "name": "stdout",
     "output_type": "stream",
     "text": [
      "<filter object at 0x000001B42312AB48>\n",
      "<class 'filter'>\n",
      "[1, 2, 3]\n"
     ]
    }
   ],
   "source": [
    "\n",
    "# filter(function, iterables)\n",
    "def sqr(a):\n",
    "    if a<=3:\n",
    "        return a\n",
    "# your code goes here1.2\n",
    "x = filter( sqr, [1,2,3,4,5] )\n",
    "print(x)\n",
    "print(type(x))\n",
    "print(list(x))"
   ]
  },
  {
   "cell_type": "code",
   "execution_count": 17,
   "metadata": {},
   "outputs": [
    {
     "name": "stdout",
     "output_type": "stream",
     "text": [
      "[1, 2, 3]\n"
     ]
    }
   ],
   "source": [
    "\n",
    "l = [1,2,3,4]\n",
    "# your code goes here\n",
    "x = filter( lambda x: x<=3 ,l )\n",
    "print(list(x))"
   ]
  },
  {
   "cell_type": "code",
   "execution_count": 16,
   "metadata": {},
   "outputs": [
    {
     "name": "stdout",
     "output_type": "stream",
     "text": [
      "<map object at 0x000001B42395FBC8>\n",
      "[9, 16]\n"
     ]
    }
   ],
   "source": [
    "# filter within map\n",
    "x = map(lambda x: x*x,  filter(lambda x: x>=3., [1,2,3,4]))\n",
    "print(x)\n",
    "print(list(x))\n",
    "print(tuple(x))"
   ]
  },
  {
   "cell_type": "code",
   "execution_count": 20,
   "metadata": {},
   "outputs": [
    {
     "name": "stdout",
     "output_type": "stream",
     "text": [
      "<filter object at 0x000001B423A84A48>\n",
      "[35.0, 36.0, 37.0, 38.0]\n"
     ]
    }
   ],
   "source": [
    "# map within filter\n",
    "x = filter(lambda x: x>=30,  map(lambda x: x+34., [1,2,3,4]))\n",
    "print(x)\n",
    "print(list(x))\n",
    "\n"
   ]
  },
  {
   "cell_type": "markdown",
   "metadata": {},
   "source": [
    "__question 2__"
   ]
  },
  {
   "cell_type": "markdown",
   "metadata": {},
   "source": [
    "Recreate your own Python NB for “Classes and Objects” from the pdf provided namely\n",
    "“Classes&Objects.pdf”"
   ]
  },
  {
   "cell_type": "markdown",
   "metadata": {},
   "source": [
    "__Python - Object Oriented__"
   ]
  },
  {
   "cell_type": "markdown",
   "metadata": {},
   "source": [
    "__Python__ has been an object-oriented language since it existed. Because of this, creating and using classes and objects are downright easy. This chapter helps you become an expert in using Python's object-oriented programming support.\n",
    "\n",
    "If you do not have any previous experience with object-oriented (OO) programming, you may want to consult an introductory course on it or at least a tutorial of some sort so that you have a grasp of the basic concepts.\n",
    "\n",
    "However, here is small introduction of Object-Oriented Programming (OOP) to bring you at speed −\n",
    "\n",
    "__Overview of OOP Terminology__\n",
    "\n",
    "__Class__ − A user-defined prototype for an object that defines a set of attributes that characterize any object of the class. The attributes are data members (class variables and instance variables) and methods, accessed via dot notation.\n",
    "\n",
    "__Class variable__ − A variable that is shared by all instances of a class. Class variables are defined within a class but outside any of the class's methods. Class variables are not used as frequently as instance variables are.\n",
    "\n",
    "__Data member__ − A class variable or instance variable that holds data associated with a class and its objects.\n",
    "\n",
    "__Function overloading__ − The assignment of more than one behavior to a particular function. The operation performed varies by the types of objects or arguments involved.\n",
    "\n",
    "__Instance variable__ − A variable that is defined inside a method and belongs only to the current instance of a class.\n",
    "\n",
    "__Inheritance__ − The transfer of the characteristics of a class to other classes that are derived from it.\n",
    "\n",
    "__Instance__ − An individual object of a certain class. An object obj that belongs to a class Circle, for example, is an instance of the class Circle.\n",
    "\n",
    "__Instantiation__ − The creation of an instance of a class.\n",
    "\n",
    "__Method__ − A special kind of function that is defined in a class definition.\n",
    "\n",
    "__Object__ − A unique instance of a data structure that's defined by its class. An object comprises both data members (class variables and instance variables) and methods.\n",
    "\n",
    "__Operator overloading__ − The assignment of more than one function to a particular operator.\n",
    "\n"
   ]
  },
  {
   "cell_type": "code",
   "execution_count": 34,
   "metadata": {},
   "outputs": [
    {
     "name": "stdout",
     "output_type": "stream",
     "text": [
      "Hello\n"
     ]
    }
   ],
   "source": [
    "#Below is a simple Python program that creates a class with single method.\n",
    "\n",
    "# A simple example class \n",
    "class Test: \n",
    "      \n",
    "    # A sample method  \n",
    "    def fun(self): \n",
    "        print(\"Hello\") \n",
    "  \n",
    "# Driver code \n",
    "obj = Test() \n",
    "obj.fun() "
   ]
  },
  {
   "cell_type": "markdown",
   "metadata": {},
   "source": [
    "As we can see above, we create a new class using the class statement and the name of the class. This is followed by an indented block of statements which form the body of the class. In this case, we have defined a single method in the class.\n",
    "\n",
    "Next, we create an object/instance of this class using the name of the class followed by a pair of parentheses.\n",
    "\n",
    " \n",
    "\n",
    "\n",
    "\n",
    "__The self__\n",
    "\n",
    "Class methods must have an extra first parameter in method definition. We do not give a value for this parameter when we call the method, Python provides it\n",
    "If we have a method which takes no arguments, then we still have to have one argument – the self. See fun() in above simple example.\n",
    "This is similar to this pointer in C++ and this reference in Java.\n",
    "When we call a method of this object as myobject.method(arg1, arg2), this is automatically converted by Python into MyClass.method(myobject, arg1, arg2) – this is all the special self is about.\n",
    "\n",
    " \n",
    "\n",
    "__The __init__ method__\n",
    "\n",
    "The __init__ method is similar to constructors in C++ and Java. It is run as soon as an object of a class is instantiated. The method is useful to do any initialization you want to do with your object."
   ]
  },
  {
   "cell_type": "code",
   "execution_count": 36,
   "metadata": {},
   "outputs": [
    {
     "name": "stdout",
     "output_type": "stream",
     "text": [
      "Hello, my name is Sidhartha\n"
     ]
    }
   ],
   "source": [
    "# A Sample class with init method \n",
    "class Person: \n",
    "\n",
    "\t# init method or constructor \n",
    "\tdef __init__(self, name): \n",
    "\t\tself.name = name \n",
    "\n",
    "\t# Sample Method \n",
    "\tdef say_hi(self): \n",
    "\t\tprint('Hello, my name is', self.name) \n",
    "\n",
    "p = Person('Sidhartha') \n",
    "p.say_hi() \n"
   ]
  },
  {
   "cell_type": "markdown",
   "metadata": {},
   "source": [
    "Here, we define the __init__ method as taking a parameter name (along with the usual self). .\n",
    "\n",
    " \n",
    "\n",
    "__Class and Instance Variables (Or attributes)__\n",
    "\n",
    "In Python, instance variables are variables whose value is assigned inside a constructor or method with self.\n",
    "\n",
    "\n",
    "\n",
    "Class variables are variables whose value is assigned in class."
   ]
  },
  {
   "cell_type": "code",
   "execution_count": 37,
   "metadata": {},
   "outputs": [
    {
     "name": "stdout",
     "output_type": "stream",
     "text": [
      "cse\n",
      "cse\n",
      "101\n",
      "cse\n"
     ]
    }
   ],
   "source": [
    "# Python program to show that the variables with a value \n",
    "# assigned in class declaration, are class variables and \n",
    "# variables inside methods and constructors are instance \n",
    "# variables. \n",
    "\n",
    "# Class for Computer Science Student \n",
    "class CSStudent: \n",
    "\n",
    "\t# Class Variable \n",
    "\tstream = 'cse'\t\t\t\n",
    "\n",
    "\t# The init method or constructor \n",
    "\tdef __init__(self, roll): \n",
    "\t\n",
    "\t\t# Instance Variable\t \n",
    "\t\tself.roll = roll\t \n",
    "\n",
    "# Objects of CSStudent class \n",
    "a = CSStudent(101) \n",
    "b = CSStudent(102) \n",
    "\n",
    "print(a.stream) # prints \"cse\" \n",
    "print(b.stream) # prints \"cse\" \n",
    "print(a.roll) # prints 101 \n",
    "\n",
    "# Class variables can be accessed using class \n",
    "# name also \n",
    "print(CSStudent.stream) # prints \"cse\"\t \n"
   ]
  },
  {
   "cell_type": "markdown",
   "metadata": {},
   "source": [
    "We can define instance variables inside normal methods also."
   ]
  },
  {
   "cell_type": "code",
   "execution_count": 38,
   "metadata": {},
   "outputs": [
    {
     "name": "stdout",
     "output_type": "stream",
     "text": [
      "Noida, UP\n"
     ]
    }
   ],
   "source": [
    "# Python program to show that we can create \n",
    "# instance variables inside methods \n",
    "\n",
    "# Class for Computer Science Student \n",
    "class CSStudent: \n",
    "\t\n",
    "\t# Class Variable \n",
    "\tstream = 'cse'\t\n",
    "\t\n",
    "\t# The init method or constructor \n",
    "\tdef __init__(self, roll): \n",
    "\t\t\n",
    "\t\t# Instance Variable \n",
    "\t\tself.roll = roll\t\t\t \n",
    "\n",
    "\t# Adds an instance variable \n",
    "\tdef setAddress(self, address): \n",
    "\t\tself.address = address \n",
    "\t\n",
    "\t# Retrieves instance variable\t \n",
    "\tdef getAddress(self):\t \n",
    "\t\treturn self.address \n",
    "\n",
    "# Driver Code \n",
    "a = CSStudent(101) \n",
    "a.setAddress(\"Noida, UP\") \n",
    "print(a.getAddress()) \n"
   ]
  },
  {
   "cell_type": "code",
   "execution_count": null,
   "metadata": {},
   "outputs": [],
   "source": []
  }
 ],
 "metadata": {
  "kernelspec": {
   "display_name": "Python 3",
   "language": "python",
   "name": "python3"
  },
  "language_info": {
   "codemirror_mode": {
    "name": "ipython",
    "version": 3
   },
   "file_extension": ".py",
   "mimetype": "text/x-python",
   "name": "python",
   "nbconvert_exporter": "python",
   "pygments_lexer": "ipython3",
   "version": "3.7.6"
  }
 },
 "nbformat": 4,
 "nbformat_minor": 4
}
