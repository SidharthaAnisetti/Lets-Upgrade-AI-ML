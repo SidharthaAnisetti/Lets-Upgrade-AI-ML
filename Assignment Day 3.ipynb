{
 "cells": [
  {
   "cell_type": "markdown",
   "metadata": {},
   "source": [
    "__Assignmment Day3__"
   ]
  },
  {
   "cell_type": "code",
   "execution_count": 1,
   "metadata": {},
   "outputs": [
    {
     "name": "stdout",
     "output_type": "stream",
     "text": [
      "(5+3j)\n",
      "(3+2j)\n",
      "(2+1j)\n"
     ]
    }
   ],
   "source": [
    "#Question 1 \n",
    "\n",
    "a = 5+3j\n",
    "\n",
    "b = 3+2j\n",
    "\n",
    "#subtractio of two complex numbers.\n",
    "c = a-b\n",
    "\n",
    "print(a)\n",
    "print(b)\n",
    "print(c)"
   ]
  },
  {
   "cell_type": "code",
   "execution_count": 2,
   "metadata": {},
   "outputs": [
    {
     "name": "stdout",
     "output_type": "stream",
     "text": [
      "3.7606030930863934\n"
     ]
    }
   ],
   "source": [
    "#Question 2\n",
    "\n",
    "d = 200\n",
    "\n",
    "#finding fourth root of a number\n",
    "e = d**0.25\n",
    "\n",
    "print(e)"
   ]
  },
  {
   "cell_type": "code",
   "execution_count": 3,
   "metadata": {},
   "outputs": [
    {
     "name": "stdout",
     "output_type": "stream",
     "text": [
      "before swapping f= 8\n",
      "before swapping g= 9\n",
      "after swappping f= 9\n",
      "after swapping g= 8\n"
     ]
    }
   ],
   "source": [
    "#Question 3\n",
    "#swapping two numbers using a temporary variable\n",
    "\n",
    "f = 8\n",
    "g = 9\n",
    "print(\"before swapping f=\",f)\n",
    "print(\"before swapping g=\",g)\n",
    "\n",
    "# t here is the temporary variable\n",
    "t = f\n",
    "f = g\n",
    "g = t\n",
    "print(\"after swappping f=\",f)\n",
    "print(\"after swapping g=\",g)"
   ]
  },
  {
   "cell_type": "code",
   "execution_count": 4,
   "metadata": {},
   "outputs": [
    {
     "name": "stdout",
     "output_type": "stream",
     "text": [
      "before swapping h= 8\n",
      "before swapping i= 9\n",
      "before swapping h= 9\n",
      "before swapping i= 8\n"
     ]
    }
   ],
   "source": [
    "#Question 4\n",
    "#swapping two numbers without using temporary variable\n",
    "\n",
    "h = 8\n",
    "i = 9\n",
    "print(\"before swapping h=\",h)\n",
    "print(\"before swapping i=\",i)\n",
    "\n",
    "h = h+i\n",
    "i = h-i\n",
    "h = h-i\n",
    "print(\"before swapping h=\",h)\n",
    "print(\"before swapping i=\",i)\n"
   ]
  },
  {
   "cell_type": "code",
   "execution_count": 6,
   "metadata": {},
   "outputs": [
    {
     "name": "stdout",
     "output_type": "stream",
     "text": [
      "Temperature in Kelvin ( K ) =  311.27777777777777\n",
      "Temperature in celsius ( c ) =  37.77777777777778\n"
     ]
    }
   ],
   "source": [
    "#Question 5\n",
    "def Fahrenheit_to_Kelvin(F): \n",
    "    return 273.5 + ((F - 32.0) * (5.0/9.0)) \n",
    "  \n",
    "\n",
    "print(\"Temperature in Kelvin ( K ) = \", Fahrenheit_to_Kelvin(100))\n",
    "\n",
    "\n",
    "def Farenheit_to_Celsius(F):\n",
    "    return (F - 32.0) * (5.0/9.0)\n",
    "\n",
    "print(\"Temperature in celsius ( c ) = \", Farenheit_to_Celsius(100))\n"
   ]
  },
  {
   "cell_type": "code",
   "execution_count": 7,
   "metadata": {},
   "outputs": [
    {
     "name": "stdout",
     "output_type": "stream",
     "text": [
      "<class 'int'>\n",
      "<class 'float'>\n",
      "<class 'complex'>\n",
      "<class 'str'>\n",
      "<class 'list'>\n",
      "<class 'tuple'>\n",
      "<class 'bool'>\n",
      "<class 'set'>\n",
      "<class 'dict'>\n"
     ]
    }
   ],
   "source": [
    "#Question 6\n",
    "\n",
    "#integer\n",
    "print(type(1))\n",
    "#float\n",
    "print(type(1.9))\n",
    "#coplex\n",
    "print(type(2+3j))\n",
    "#string\n",
    "print(type(\"abc\"))\n",
    "#list\n",
    "list = [1,2,3]\n",
    "print(type(list))\n",
    "#tuple\n",
    "tuple = (1,2,3)\n",
    "print(type(tuple))\n",
    "#boolean\n",
    "print(type(True)) \n",
    "#sets\n",
    "set1 = {'F', 'o', 'G', 's', 'r', 'k', 'e'}\n",
    "print(type(set1))\n",
    "#Dictionary\n",
    "Dict = {1: 'lets', 2: 'upgrade', 3: 'ai/ml'}  \n",
    "print(type(Dict))\n"
   ]
  },
  {
   "cell_type": "markdown",
   "metadata": {},
   "source": [
    "#Question 7\n",
    "\n",
    "list of steps discussed by Dr.DarshanIngle sir to submit our assignment\n",
    "\n",
    "1.) create a github account.\n",
    "2.) complete the assignment in jupyter notebook and save it as .ipynb file.\n",
    "3.) create a repository in github with the name Lets Upgrade AI/ML.\n",
    "4.) submit your assignment  in the google form link given in the links section."
   ]
  },
  {
   "cell_type": "code",
   "execution_count": null,
   "metadata": {},
   "outputs": [],
   "source": []
  }
 ],
 "metadata": {
  "kernelspec": {
   "display_name": "Python 3",
   "language": "python",
   "name": "python3"
  },
  "language_info": {
   "codemirror_mode": {
    "name": "ipython",
    "version": 3
   },
   "file_extension": ".py",
   "mimetype": "text/x-python",
   "name": "python",
   "nbconvert_exporter": "python",
   "pygments_lexer": "ipython3",
   "version": "3.7.6"
  }
 },
 "nbformat": 4,
 "nbformat_minor": 4
}
