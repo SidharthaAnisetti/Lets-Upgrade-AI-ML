{
 "cells": [
  {
   "cell_type": "markdown",
   "metadata": {},
   "source": [
    "# Assignment Day_20"
   ]
  },
  {
   "cell_type": "markdown",
   "metadata": {},
   "source": [
    "__Question 1:__\n",
    "\n",
    "__Anova__\n",
    "\n",
    "Three archers – Pat, Jack, and Alex are participating in an archery contest. They are shooting at\n",
    "\n",
    "targets with 10 evenly spaced concentric rings. The rings have score values from 1 through 10\n",
    "\n",
    "assigned to them, with 10 being the highest. Each participant shoots 6 arrow, scoring the\n",
    "\n",
    "following points:\n",
    "\n",
    "Pat – 5, 4, 4, 3, 9, 4\n",
    "\n",
    "Jack – 4, 8, 7, 5, 1, 5\n",
    "\n",
    "Alex – 9, 9, 8, 10, 4, 10\n",
    "\n",
    "Based on the above results we would like to know who the best archer is. In other words our null\n",
    "\n",
    "hypothesis is that the means of all populations are equal."
   ]
  },
  {
   "cell_type": "code",
   "execution_count": 1,
   "metadata": {},
   "outputs": [],
   "source": [
    "import pandas as pd"
   ]
  },
  {
   "cell_type": "code",
   "execution_count": 2,
   "metadata": {},
   "outputs": [],
   "source": [
    "Pat = [5, 4, 4, 3, 9, 4]\n",
    "\n",
    "Jack = [4, 8, 7, 5, 1, 5]\n",
    "\n",
    "Alex = [9, 9, 8, 10, 4, 10]"
   ]
  },
  {
   "cell_type": "code",
   "execution_count": 3,
   "metadata": {},
   "outputs": [],
   "source": [
    "all_scores = Pat + Jack + Alex\n",
    "player_name = (['Pat'] * len(Pat)) +  (['Jack'] * len(Jack)) +  (['Alex'] * len(Alex))"
   ]
  },
  {
   "cell_type": "code",
   "execution_count": 4,
   "metadata": {},
   "outputs": [],
   "source": [
    "data = pd.DataFrame({'player_name': player_name, 'score': all_scores})"
   ]
  },
  {
   "cell_type": "code",
   "execution_count": 5,
   "metadata": {},
   "outputs": [
    {
     "data": {
      "text/html": [
       "<div>\n",
       "<style scoped>\n",
       "    .dataframe tbody tr th:only-of-type {\n",
       "        vertical-align: middle;\n",
       "    }\n",
       "\n",
       "    .dataframe tbody tr th {\n",
       "        vertical-align: top;\n",
       "    }\n",
       "\n",
       "    .dataframe thead th {\n",
       "        text-align: right;\n",
       "    }\n",
       "</style>\n",
       "<table border=\"1\" class=\"dataframe\">\n",
       "  <thead>\n",
       "    <tr style=\"text-align: right;\">\n",
       "      <th></th>\n",
       "      <th>player_name</th>\n",
       "      <th>score</th>\n",
       "    </tr>\n",
       "  </thead>\n",
       "  <tbody>\n",
       "    <tr>\n",
       "      <th>0</th>\n",
       "      <td>Pat</td>\n",
       "      <td>5</td>\n",
       "    </tr>\n",
       "    <tr>\n",
       "      <th>1</th>\n",
       "      <td>Pat</td>\n",
       "      <td>4</td>\n",
       "    </tr>\n",
       "    <tr>\n",
       "      <th>2</th>\n",
       "      <td>Pat</td>\n",
       "      <td>4</td>\n",
       "    </tr>\n",
       "    <tr>\n",
       "      <th>3</th>\n",
       "      <td>Pat</td>\n",
       "      <td>3</td>\n",
       "    </tr>\n",
       "    <tr>\n",
       "      <th>4</th>\n",
       "      <td>Pat</td>\n",
       "      <td>9</td>\n",
       "    </tr>\n",
       "    <tr>\n",
       "      <th>5</th>\n",
       "      <td>Pat</td>\n",
       "      <td>4</td>\n",
       "    </tr>\n",
       "    <tr>\n",
       "      <th>6</th>\n",
       "      <td>Jack</td>\n",
       "      <td>4</td>\n",
       "    </tr>\n",
       "    <tr>\n",
       "      <th>7</th>\n",
       "      <td>Jack</td>\n",
       "      <td>8</td>\n",
       "    </tr>\n",
       "    <tr>\n",
       "      <th>8</th>\n",
       "      <td>Jack</td>\n",
       "      <td>7</td>\n",
       "    </tr>\n",
       "    <tr>\n",
       "      <th>9</th>\n",
       "      <td>Jack</td>\n",
       "      <td>5</td>\n",
       "    </tr>\n",
       "    <tr>\n",
       "      <th>10</th>\n",
       "      <td>Jack</td>\n",
       "      <td>1</td>\n",
       "    </tr>\n",
       "    <tr>\n",
       "      <th>11</th>\n",
       "      <td>Jack</td>\n",
       "      <td>5</td>\n",
       "    </tr>\n",
       "    <tr>\n",
       "      <th>12</th>\n",
       "      <td>Alex</td>\n",
       "      <td>9</td>\n",
       "    </tr>\n",
       "    <tr>\n",
       "      <th>13</th>\n",
       "      <td>Alex</td>\n",
       "      <td>9</td>\n",
       "    </tr>\n",
       "    <tr>\n",
       "      <th>14</th>\n",
       "      <td>Alex</td>\n",
       "      <td>8</td>\n",
       "    </tr>\n",
       "    <tr>\n",
       "      <th>15</th>\n",
       "      <td>Alex</td>\n",
       "      <td>10</td>\n",
       "    </tr>\n",
       "    <tr>\n",
       "      <th>16</th>\n",
       "      <td>Alex</td>\n",
       "      <td>4</td>\n",
       "    </tr>\n",
       "    <tr>\n",
       "      <th>17</th>\n",
       "      <td>Alex</td>\n",
       "      <td>10</td>\n",
       "    </tr>\n",
       "  </tbody>\n",
       "</table>\n",
       "</div>"
      ],
      "text/plain": [
       "   player_name  score\n",
       "0          Pat      5\n",
       "1          Pat      4\n",
       "2          Pat      4\n",
       "3          Pat      3\n",
       "4          Pat      9\n",
       "5          Pat      4\n",
       "6         Jack      4\n",
       "7         Jack      8\n",
       "8         Jack      7\n",
       "9         Jack      5\n",
       "10        Jack      1\n",
       "11        Jack      5\n",
       "12        Alex      9\n",
       "13        Alex      9\n",
       "14        Alex      8\n",
       "15        Alex     10\n",
       "16        Alex      4\n",
       "17        Alex     10"
      ]
     },
     "execution_count": 5,
     "metadata": {},
     "output_type": "execute_result"
    }
   ],
   "source": [
    "data\n"
   ]
  },
  {
   "cell_type": "code",
   "execution_count": 6,
   "metadata": {},
   "outputs": [],
   "source": [
    "import statsmodels.api as sm\n",
    "from statsmodels.formula.api import ols"
   ]
  },
  {
   "cell_type": "code",
   "execution_count": 7,
   "metadata": {},
   "outputs": [
    {
     "name": "stdout",
     "output_type": "stream",
     "text": [
      "               df     sum_sq    mean_sq         F    PR(>F)\n",
      "player_name   2.0  46.777778  23.388889  4.488273  0.029668\n",
      "Residual     15.0  78.166667   5.211111       NaN       NaN\n"
     ]
    }
   ],
   "source": [
    "lm = ols('score ~ player_name',data=data).fit()\n",
    "table = sm.stats.anova_lm(lm)\n",
    "print(table)"
   ]
  },
  {
   "cell_type": "markdown",
   "metadata": {},
   "source": [
    "__As 0.02(P value) less than 0.04(F Value) we reject the null hypothesis and we conclude that at least one of the means is different from at least one other population mean (i.e. not all archers perform equally)__"
   ]
  },
  {
   "cell_type": "markdown",
   "metadata": {},
   "source": [
    "__Tukey’s range test__"
   ]
  },
  {
   "cell_type": "code",
   "execution_count": 8,
   "metadata": {},
   "outputs": [],
   "source": [
    "from statsmodels.stats.multicomp import pairwise_tukeyhsd\n",
    "from statsmodels.stats.multicomp import MultiComparison"
   ]
  },
  {
   "cell_type": "code",
   "execution_count": 9,
   "metadata": {},
   "outputs": [
    {
     "name": "stdout",
     "output_type": "stream",
     "text": [
      "Multiple Comparison of Means - Tukey HSD, FWER=0.05\n",
      "===================================================\n",
      "group1 group2 meandiff p-adj   lower  upper  reject\n",
      "---------------------------------------------------\n",
      "  Alex   Jack  -3.3333 0.0568 -6.7554 0.0887  False\n",
      "  Alex    Pat     -3.5 0.0447  -6.922 -0.078   True\n",
      "  Jack    Pat  -0.1667    0.9 -3.5887 3.2554  False\n",
      "---------------------------------------------------\n",
      "['Alex' 'Jack' 'Pat']\n"
     ]
    }
   ],
   "source": [
    "mc = MultiComparison(data['score'], data['player_name'])\n",
    "result = mc.tukeyhsd()\n",
    " \n",
    "print(result)\n",
    "print(mc.groupsunique)"
   ]
  },
  {
   "cell_type": "markdown",
   "metadata": {},
   "source": [
    "The results above reveal that Alex  significantly differs from the other two archers.\n",
    "\n",
    "The third column tells us that there is significant evidence to reject the null hypothesis for the groups Alex-Jack and \n",
    "\n",
    "Alex-Pat.\n",
    "\n",
    "The test also shows the difference between the group means (the meandiff column).\n",
    "\n",
    "    [mean{Jack} - mean{Alex} = -3.3333]\n",
    "\n",
    "    [mean{Pat} - mean{Alex} = - 3.5]\n",
    "\n",
    "This leads to the conclusion that Alex is the best archer in the group."
   ]
  },
  {
   "cell_type": "code",
   "execution_count": null,
   "metadata": {},
   "outputs": [],
   "source": []
  }
 ],
 "metadata": {
  "kernelspec": {
   "display_name": "Python 3",
   "language": "python",
   "name": "python3"
  },
  "language_info": {
   "codemirror_mode": {
    "name": "ipython",
    "version": 3
   },
   "file_extension": ".py",
   "mimetype": "text/x-python",
   "name": "python",
   "nbconvert_exporter": "python",
   "pygments_lexer": "ipython3",
   "version": "3.8.3"
  }
 },
 "nbformat": 4,
 "nbformat_minor": 4
}
